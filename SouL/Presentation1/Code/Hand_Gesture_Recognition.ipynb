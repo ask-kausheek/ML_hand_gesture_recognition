{
  "nbformat": 4,
  "nbformat_minor": 0,
  "metadata": {
    "kernelspec": {
      "display_name": "Python 3",
      "language": "python",
      "name": "python3"
    },
    "language_info": {
      "codemirror_mode": {
        "name": "ipython",
        "version": 3
      },
      "file_extension": ".py",
      "mimetype": "text/x-python",
      "name": "python",
      "nbconvert_exporter": "python",
      "pygments_lexer": "ipython3",
      "version": "3.6.7"
    },
    "colab": {
      "name": "Gesture_Recognition_Final.ipynb",
      "provenance": [],
      "collapsed_sections": [
        "H1XmDGb9SZdx",
        "QdRKQVQhSZdz",
        "e7vX-dLUSZdz",
        "B5unwXS3SZd3",
        "3fGnnQ6nSZd4",
        "jvruOWLISZd_",
        "Z2a4tBz2SZeB",
        "tOFLwY3VSZeC",
        "b62CTu9ZSZeF",
        "4VOthS7mSZeG",
        "x-h8prFfSZeI",
        "MpgNs1DASZeK",
        "zuHqvpdSSZeL",
        "ujmADUAvSZeM",
        "Up8SQU3wSZeO",
        "7A8cterPSZeO",
        "4Og5qCMRSZeP",
        "cE2dp7SRSZeS",
        "J8yNJBBdSZeT",
        "bvVAbFC8SZeV",
        "iu_HnfJcSZeW",
        "5GVUWde0SZeY",
        "-qvSipo2SZea",
        "lMFoar3LSZeb",
        "iBTsPwnISZec",
        "rdVuab_PSZec",
        "VoI6yAiJSZee",
        "0bfW_MGVSZef"
      ]
    },
    "accelerator": "GPU"
  },
  "cells": [
    {
      "cell_type": "markdown",
      "metadata": {
        "id": "fTHC19r4BQre"
      },
      "source": [
        "# Download and install required packages"
      ]
    },
    {
      "cell_type": "code",
      "metadata": {
        "colab": {
          "base_uri": "https://localhost:8080/",
          "height": 303
        },
        "id": "mlVZ6szbSbYo",
        "outputId": "fc40802f-3458-4eae-e33e-6ba710ae1218"
      },
      "source": [
        "pip install scipy==1.1.0"
      ],
      "execution_count": null,
      "outputs": [
        {
          "output_type": "stream",
          "text": [
            "Collecting scipy==1.1.0\n",
            "\u001b[?25l  Downloading https://files.pythonhosted.org/packages/40/de/0c22c6754370ba6b1fa8e53bd6e514d4a41a181125d405a501c215cbdbd6/scipy-1.1.0-cp37-cp37m-manylinux1_x86_64.whl (31.2MB)\n",
            "\u001b[K     |████████████████████████████████| 31.2MB 102kB/s \n",
            "\u001b[?25hRequirement already satisfied: numpy>=1.8.2 in /usr/local/lib/python3.7/dist-packages (from scipy==1.1.0) (1.19.5)\n",
            "\u001b[31mERROR: plotnine 0.6.0 has requirement scipy>=1.2.0, but you'll have scipy 1.1.0 which is incompatible.\u001b[0m\n",
            "\u001b[31mERROR: albumentations 0.1.12 has requirement imgaug<0.2.7,>=0.2.5, but you'll have imgaug 0.2.9 which is incompatible.\u001b[0m\n",
            "Installing collected packages: scipy\n",
            "  Found existing installation: scipy 1.4.1\n",
            "    Uninstalling scipy-1.4.1:\n",
            "      Successfully uninstalled scipy-1.4.1\n",
            "Successfully installed scipy-1.1.0\n"
          ],
          "name": "stdout"
        },
        {
          "output_type": "display_data",
          "data": {
            "application/vnd.colab-display-data+json": {
              "pip_warning": {
                "packages": [
                  "scipy"
                ]
              }
            }
          },
          "metadata": {
            "tags": []
          }
        }
      ]
    },
    {
      "cell_type": "code",
      "metadata": {
        "colab": {
          "base_uri": "https://localhost:8080/"
        },
        "id": "5kXO9e6ZUgQ9",
        "outputId": "185d2f93-b25d-4eb9-8c56-3e4f68ef93f6"
      },
      "source": [
        "!pip install gdown\n",
        "!pip install Pillow\n",
        "!pip install imageio"
      ],
      "execution_count": null,
      "outputs": [
        {
          "output_type": "stream",
          "text": [
            "Requirement already satisfied: gdown in /usr/local/lib/python3.7/dist-packages (3.6.4)\n",
            "Requirement already satisfied: tqdm in /usr/local/lib/python3.7/dist-packages (from gdown) (4.41.1)\n",
            "Requirement already satisfied: requests in /usr/local/lib/python3.7/dist-packages (from gdown) (2.23.0)\n",
            "Requirement already satisfied: six in /usr/local/lib/python3.7/dist-packages (from gdown) (1.15.0)\n",
            "Requirement already satisfied: idna<3,>=2.5 in /usr/local/lib/python3.7/dist-packages (from requests->gdown) (2.10)\n",
            "Requirement already satisfied: chardet<4,>=3.0.2 in /usr/local/lib/python3.7/dist-packages (from requests->gdown) (3.0.4)\n",
            "Requirement already satisfied: certifi>=2017.4.17 in /usr/local/lib/python3.7/dist-packages (from requests->gdown) (2020.12.5)\n",
            "Requirement already satisfied: urllib3!=1.25.0,!=1.25.1,<1.26,>=1.21.1 in /usr/local/lib/python3.7/dist-packages (from requests->gdown) (1.24.3)\n",
            "Requirement already satisfied: Pillow in /usr/local/lib/python3.7/dist-packages (7.0.0)\n",
            "Requirement already satisfied: imageio in /usr/local/lib/python3.7/dist-packages (2.4.1)\n",
            "Requirement already satisfied: pillow in /usr/local/lib/python3.7/dist-packages (from imageio) (7.0.0)\n",
            "Requirement already satisfied: numpy in /usr/local/lib/python3.7/dist-packages (from imageio) (1.19.5)\n"
          ],
          "name": "stdout"
        }
      ]
    },
    {
      "cell_type": "markdown",
      "metadata": {
        "id": "AtRfE6O2CCRu"
      },
      "source": [
        "## Download dataset"
      ]
    },
    {
      "cell_type": "code",
      "metadata": {
        "colab": {
          "base_uri": "https://localhost:8080/"
        },
        "id": "kI8--OEqUhyT",
        "outputId": "18b64c4e-d6ba-4623-99e9-909ca33e3722"
      },
      "source": [
        "!gdown https://drive.google.com/u/0/uc?id=1ehyrYBQ5rbQQe6yL4XbLWe3FMvuVUGiL&export=download"
      ],
      "execution_count": null,
      "outputs": [
        {
          "output_type": "stream",
          "text": [
            "Downloading...\n",
            "From: https://drive.google.com/u/0/uc?id=1ehyrYBQ5rbQQe6yL4XbLWe3FMvuVUGiL\n",
            "To: /content/Project_data.zip\n",
            "1.71GB [00:12, 141MB/s] \n"
          ],
          "name": "stdout"
        }
      ]
    },
    {
      "cell_type": "code",
      "metadata": {
        "id": "V3R7ZLlpSdVX"
      },
      "source": [
        "!unzip -q Project_data.zip"
      ],
      "execution_count": null,
      "outputs": []
    },
    {
      "cell_type": "markdown",
      "metadata": {
        "id": "zpB3-xi6CNDw"
      },
      "source": [
        "## Files Structure"
      ]
    },
    {
      "cell_type": "code",
      "metadata": {
        "colab": {
          "base_uri": "https://localhost:8080/"
        },
        "id": "X-C5hoMfTbMI",
        "outputId": "e7742089-ca4f-4169-df5f-eabe611b869a"
      },
      "source": [
        "!ls\n",
        "!echo \"---\"\n",
        "!ls Project_data/\n",
        "!echo \"---\"\n",
        "!ls Project_data/val/ | head\n",
        "!echo \"---\"\n",
        "!ls Project_data/val/WIN_20180907_15_30_06_Pro_Right\\ Swipe_new | head"
      ],
      "execution_count": null,
      "outputs": [
        {
          "output_type": "stream",
          "text": [
            "Project_data  Project_data.zip\tsample_data\n",
            "---\n",
            "train  train.csv  val  val.csv\n",
            "---\n",
            "WIN_20180907_15_30_06_Pro_Right Swipe_new\n",
            "WIN_20180907_15_38_42_Pro_Thumbs Up_new\n",
            "WIN_20180907_15_42_17_Pro_Stop Gesture_new\n",
            "WIN_20180907_15_42_25_Pro_Thumbs Down_new\n",
            "WIN_20180907_15_43_36_Pro_Thumbs Up_new\n",
            "WIN_20180907_15_45_04_Pro_Left Swipe_new_Left Swipe_new\n",
            "WIN_20180907_15_45_43_Pro_Right Swipe_new\n",
            "WIN_20180907_15_47_33_Pro_Thumbs Down_new\n",
            "WIN_20180907_15_50_39_Pro_Right Swipe_new\n",
            "WIN_20180907_15_52_05_Pro_Thumbs Up_new\n",
            "---\n",
            "WIN_20180907_15_30_06_Pro_00015.png\n",
            "WIN_20180907_15_30_06_Pro_00017.png\n",
            "WIN_20180907_15_30_06_Pro_00019.png\n",
            "WIN_20180907_15_30_06_Pro_00021.png\n",
            "WIN_20180907_15_30_06_Pro_00023.png\n",
            "WIN_20180907_15_30_06_Pro_00025.png\n",
            "WIN_20180907_15_30_06_Pro_00027.png\n",
            "WIN_20180907_15_30_06_Pro_00029.png\n",
            "WIN_20180907_15_30_06_Pro_00031.png\n",
            "WIN_20180907_15_30_06_Pro_00033.png\n"
          ],
          "name": "stdout"
        }
      ]
    },
    {
      "cell_type": "code",
      "metadata": {
        "colab": {
          "base_uri": "https://localhost:8080/"
        },
        "id": "kHzqv0YbUGlo",
        "outputId": "90b2f5b0-995c-4fa6-c8d6-62a774a952d8"
      },
      "source": [
        "!cat Project_data/train.csv | head"
      ],
      "execution_count": null,
      "outputs": [
        {
          "output_type": "stream",
          "text": [
            "WIN_20180925_17_08_43_Pro_Left_Swipe_new;Left_Swipe_new;0\r\n",
            "WIN_20180925_17_18_28_Pro_Left_Swipe_new;Left_Swipe_new;0\r\n",
            "WIN_20180925_17_18_56_Pro_Left_Swipe_new;Left_Swipe_new;0\r\n",
            "WIN_20180925_17_19_51_Pro_Left_Swipe_new;Left_Swipe_new;0\r\n",
            "WIN_20180925_17_20_14_Pro_Left_Swipe_new;Left_Swipe_new;0\r\n",
            "WIN_20180925_17_21_28_Pro_Left_Swipe_new;Left_Swipe_new;0\r\n",
            "WIN_20180925_17_22_55_Pro_Left_Swipe_new;Left_Swipe_new;0\r\n",
            "WIN_20180925_17_24_49_Pro_Left_Swipe_new;Left_Swipe_new;0\r\n",
            "WIN_20180925_17_26_25_Pro_Left_Swipe_new;Left_Swipe_new;0\r\n",
            "WIN_20180925_17_26_51_Pro_Left_Swipe_new;Left_Swipe_new;0\r\n"
          ],
          "name": "stdout"
        }
      ]
    },
    {
      "cell_type": "code",
      "metadata": {
        "id": "8lVk7pilSl-5"
      },
      "source": [
        "!mkdir models"
      ],
      "execution_count": null,
      "outputs": []
    },
    {
      "cell_type": "markdown",
      "metadata": {
        "id": "lqvVjBe_SZdg"
      },
      "source": [
        "# Imports "
      ]
    },
    {
      "cell_type": "code",
      "metadata": {
        "collapsed": true,
        "id": "zyDig3-9SZdq"
      },
      "source": [
        "import numpy as np\n",
        "import os\n",
        "from scipy.misc import imread, imresize\n",
        "# from imageio import imread\n",
        "import datetime\n",
        "import os\n",
        "import warnings\n",
        "warnings.filterwarnings(\"ignore\")\n",
        "import abc\n",
        "from sys import getsizeof\n",
        "from PIL import Image\n",
        "np.random.seed(30)\n",
        "import random as rn\n",
        "rn.seed(30)"
      ],
      "execution_count": null,
      "outputs": []
    },
    {
      "cell_type": "markdown",
      "metadata": {
        "id": "6A-H1TMiSZds"
      },
      "source": [
        "We set the random seed so that the results don't vary drastically."
      ]
    },
    {
      "cell_type": "code",
      "metadata": {
        "id": "yCoFVFxmSZdt"
      },
      "source": [
        "from keras import backend as K\n",
        "import tensorflow as tf\n",
        "tf.random.set_seed(1234)"
      ],
      "execution_count": null,
      "outputs": []
    },
    {
      "cell_type": "code",
      "metadata": {
        "colab": {
          "base_uri": "https://localhost:8080/"
        },
        "id": "ZuUf2sjRdz0y",
        "outputId": "bf10107e-2224-481b-ffd9-12c19f045303"
      },
      "source": [
        "try:\n",
        "    device_name = tf.test.gpu_device_name()\n",
        "    print(\"Tensorflow version \" + tf.__version__)\n",
        "\n",
        "    if device_name == '/device:GPU:0':\n",
        "        print('Found GPU at: {}'.format(device_name))\n",
        "except:\n",
        "    pass\n",
        "\n",
        "try:\n",
        "    tpu = tf.distribute.cluster_resolver.TPUClusterResolver()  # TPU detection\n",
        "    print('Running on TPU ', tpu.cluster_spec().as_dict()['worker'])\n",
        "    tf.config.experimental_connect_to_cluster(tpu)\n",
        "    tf.tpu.experimental.initialize_tpu_system(tpu)\n",
        "    tpu_strategy = tf.distribute.experimental.TPUStrategy(tpu)\n",
        "except:\n",
        "    pass\n"
      ],
      "execution_count": null,
      "outputs": [
        {
          "output_type": "stream",
          "text": [
            "Tensorflow version 2.4.1\n",
            "Found GPU at: /device:GPU:0\n"
          ],
          "name": "stdout"
        }
      ]
    },
    {
      "cell_type": "code",
      "metadata": {
        "collapsed": true,
        "id": "uAPZyD0PSZdt"
      },
      "source": [
        "import cv2\n",
        "import matplotlib.pyplot as plt\n",
        "% matplotlib inline"
      ],
      "execution_count": null,
      "outputs": []
    },
    {
      "cell_type": "markdown",
      "metadata": {
        "id": "qR-8PFYhSZdu"
      },
      "source": [
        "In this block, you read the folder names for training and validation. You also set the `batch_size` here. Note that you set the batch size in such a way that you are able to use the GPU in full capacity. You keep increasing the batch size until the machine throws an error."
      ]
    },
    {
      "cell_type": "code",
      "metadata": {
        "collapsed": true,
        "id": "qubuvqgISZdv"
      },
      "source": [
        "from keras.models import Sequential, Model\n",
        "from keras.layers import Dense, GRU, Flatten, TimeDistributed, Flatten, BatchNormalization, Activation\n",
        "from keras.layers.convolutional import Conv3D, MaxPooling3D, Conv2D, MaxPooling2D\n",
        "from keras.layers.recurrent import LSTMInterview\n",
        "from keras.callbacks import ModelCheckpoint, ReduceLROnPlateau\n",
        "from keras import optimizers\n",
        "from keras.layers import Dropout"
      ],
      "execution_count": null,
      "outputs": []
    },
    {
      "cell_type": "code",
      "metadata": {
        "collapsed": true,
        "id": "GsdDkmfwSZdv"
      },
      "source": [
        "project_folder='Project_data'"
      ],
      "execution_count": null,
      "outputs": []
    },
    {
      "cell_type": "code",
      "metadata": {
        "collapsed": true,
        "id": "HTRtutOXSZdw"
      },
      "source": [
        "def plot(history):\n",
        "    fig, axes = plt.subplots(nrows=1, ncols=2, figsize=(15,4))\n",
        "    axes[0].plot(history.history['loss'])   \n",
        "    axes[0].plot(history.history['val_loss'])\n",
        "    axes[0].legend(['loss','val_loss'])\n",
        "\n",
        "    axes[1].plot(history.history['categorical_accuracy'])   \n",
        "    axes[1].plot(history.history['val_categorical_accuracy'])\n",
        "    axes[1].legend(['categorical_accuracy','val_categorical_accuracy'])"
      ],
      "execution_count": null,
      "outputs": []
    },
    {
      "cell_type": "markdown",
      "metadata": {
        "id": "H1XmDGb9SZdx"
      },
      "source": [
        "## Generator\n",
        "This is one of the most important part of the code. The overall structure of the generator has been given. In the generator, you are going to preprocess the images as you have images of 2 different dimensions as well as create a batch of video frames. You have to experiment with `img_idx`, `y`,`z` and normalization such that you get high accuracy."
      ]
    },
    {
      "cell_type": "code",
      "metadata": {
        "collapsed": true,
        "id": "xkvx-KgvSZdy"
      },
      "source": [
        "class ModelBuilder(metaclass= abc.ABCMeta):\n",
        "    \n",
        "    def initialize_path(self,project_folder):\n",
        "        self.train_doc = np.random.permutation(open(project_folder + '/' + 'train.csv').readlines())\n",
        "        self.val_doc = np.random.permutation(open(project_folder + '/' + 'val.csv').readlines())\n",
        "        self.train_path = project_folder + '/' + 'train'\n",
        "        self.val_path =  project_folder + '/' + 'val'\n",
        "        self.num_train_sequences = len(self.train_doc)\n",
        "        self.num_val_sequences = len(self.val_doc)\n",
        "        \n",
        "    def initialize_image_properties(self,image_height=100,image_width=100):\n",
        "        self.image_height=image_height\n",
        "        self.image_width=image_width\n",
        "        self.channels=3\n",
        "        self.num_classes=5\n",
        "        self.total_frames=30\n",
        "          \n",
        "    def initialize_hyperparams(self,frames_to_sample=30,batch_size=20,num_epochs=20):\n",
        "        self.frames_to_sample=frames_to_sample\n",
        "        self.batch_size=batch_size\n",
        "        self.num_epochs=num_epochs\n",
        "        \n",
        "        \n",
        "    def generator(self,source_path, folder_list, augment=False):\n",
        "        img_idx = np.round(np.linspace(0,self.total_frames-1,self.frames_to_sample)).astype(int)\n",
        "        batch_size=self.batch_size\n",
        "        while True:\n",
        "            t = np.random.permutation(folder_list)\n",
        "            num_batches = len(t)//batch_size\n",
        "        \n",
        "            for batch in range(num_batches): \n",
        "                batch_data, batch_labels= self.one_batch_data(source_path,t,batch,batch_size,img_idx,augment)\n",
        "                yield batch_data, batch_labels \n",
        "\n",
        "            remaining_seq=len(t)%batch_size\n",
        "        \n",
        "            if (remaining_seq != 0):\n",
        "                batch_data, batch_labels= self.one_batch_data(source_path,t,num_batches,batch_size,img_idx,augment,remaining_seq)\n",
        "                yield batch_data, batch_labels \n",
        "    \n",
        "    \n",
        "    def one_batch_data(self,source_path,t,batch,batch_size,img_idx,augment,remaining_seq=0):\n",
        "    \n",
        "        seq_len = remaining_seq if remaining_seq else batch_size\n",
        "    \n",
        "        batch_data = np.zeros((seq_len,len(img_idx),self.image_height,self.image_width,self.channels)) \n",
        "        batch_labels = np.zeros((seq_len,self.num_classes)) \n",
        "    \n",
        "        if (augment): batch_data_aug = np.zeros((seq_len,len(img_idx),self.image_height,self.image_width,self.channels))\n",
        "\n",
        "        \n",
        "        for folder in range(seq_len): \n",
        "            imgs = os.listdir(source_path+'/'+ t[folder + (batch*batch_size)].split(';')[0]) \n",
        "            for idx,item in enumerate(img_idx): \n",
        "                image = imread(source_path+'/'+ t[folder + (batch*batch_size)].strip().split(';')[0]+'/'+imgs[item]).astype(np.float32)\n",
        "                image_resized=imresize(image,(self.image_height,self.image_width,3))\n",
        "                # image_resized=Image.fromarray(image).resize(size=(self.image_height,self.image_width,3))\n",
        "                # resized_img = Image.fromarray(orj_img).resize(size=(new_h, new_w))\n",
        "            \n",
        "\n",
        "                batch_data[folder,idx,:,:,0] = (image_resized[:,:,0])/255\n",
        "                batch_data[folder,idx,:,:,1] = (image_resized[:,:,1])/255\n",
        "                batch_data[folder,idx,:,:,2] = (image_resized[:,:,2])/255\n",
        "            \n",
        "                if (augment):\n",
        "                    shifted = cv2.warpAffine(image, \n",
        "                                             np.float32([[1, 0, np.random.randint(-30,30)],[0, 1, np.random.randint(-30,30)]]), \n",
        "                                            (image.shape[1], image.shape[0]))\n",
        "                    \n",
        "                    gray = cv2.cvtColor(shifted,cv2.COLOR_BGR2GRAY)\n",
        "\n",
        "                    x0, y0 = np.argwhere(gray > 0).min(axis=0)\n",
        "                    x1, y1 = np.argwhere(gray > 0).max(axis=0) \n",
        "                    \n",
        "                    cropped=shifted[x0:x1,y0:y1,:]\n",
        "                    \n",
        "                    image_resized=imresize(cropped,(self.image_height,self.image_width,3))\n",
        "                    \n",
        "                    #shifted = cv2.warpAffine(image_resized, \n",
        "                    #                        np.float32([[1, 0, np.random.randint(-3,3)],[0, 1, np.random.randint(-3,3)]]), \n",
        "                    #                        (image_resized.shape[1], image_resized.shape[0]))\n",
        "            \n",
        "                    batch_data_aug[folder,idx,:,:,0] = (image_resized[:,:,0])/255\n",
        "                    batch_data_aug[folder,idx,:,:,1] = (image_resized[:,:,1])/255\n",
        "                    batch_data_aug[folder,idx,:,:,2] = (image_resized[:,:,2])/255\n",
        "                \n",
        "            \n",
        "            batch_labels[folder, int(t[folder + (batch*batch_size)].strip().split(';')[2])] = 1\n",
        "            \n",
        "    \n",
        "        if (augment):\n",
        "            batch_data=np.concatenate([batch_data,batch_data_aug])\n",
        "            batch_labels=np.concatenate([batch_labels,batch_labels])\n",
        "\n",
        "        \n",
        "        return(batch_data,batch_labels)\n",
        "    \n",
        "    \n",
        "    def train_model(self, model, augment_data=False):\n",
        "        train_generator = self.generator(self.train_path, self.train_doc,augment=augment_data)\n",
        "        val_generator = self.generator(self.val_path, self.val_doc)\n",
        "\n",
        "        model_name = 'models/' + 'model_init' + '_' + str(datetime.datetime.now()).replace(' ','').replace(':','_') + '/'\n",
        "    \n",
        "        if not os.path.exists(model_name):\n",
        "            os.mkdir(model_name)\n",
        "        \n",
        "        filepath = model_name + 'model-{epoch:05d}-{loss:.5f}-{categorical_accuracy:.5f}-{val_loss:.5f}-{val_categorical_accuracy:.5f}.h5'\n",
        "\n",
        "        checkpoint = ModelCheckpoint(filepath, monitor='val_loss', verbose=1, save_best_only=False, save_weights_only=False, mode='auto', period=1)\n",
        "        LR = ReduceLROnPlateau(monitor='val_loss', factor=0.2, verbose=1, patience=4)\n",
        "        callbacks_list = [checkpoint, LR]\n",
        "\n",
        "        if (self.num_train_sequences%self.batch_size) == 0:\n",
        "            steps_per_epoch = int(self.num_train_sequences/self.batch_size)\n",
        "        else:\n",
        "            steps_per_epoch = (self.num_train_sequences//self.batch_size) + 1\n",
        "\n",
        "        if (self.num_val_sequences%self.batch_size) == 0:\n",
        "            validation_steps = int(self.num_val_sequences/self.batch_size)\n",
        "        else:\n",
        "            validation_steps = (self.num_val_sequences//self.batch_size) + 1\n",
        "    \n",
        "        history=model.fit_generator(train_generator, steps_per_epoch=steps_per_epoch, epochs=self.num_epochs, verbose=1, \n",
        "                            callbacks=callbacks_list, validation_data=val_generator, \n",
        "                            validation_steps=validation_steps, class_weight=None, workers=1, initial_epoch=0)\n",
        "        return history\n",
        "\n",
        "        \n",
        "    @abc.abstractmethod\n",
        "    def define_model(self):\n",
        "        pass"
      ],
      "execution_count": null,
      "outputs": []
    },
    {
      "cell_type": "markdown",
      "metadata": {
        "id": "QdRKQVQhSZdz"
      },
      "source": [
        "## Model\n",
        "Here you make the model using different functionalities that Keras provides. Remember to use `Conv3D` and `MaxPooling3D` and not `Conv2D` and `Maxpooling2D` for a 3D convolution model. You would want to use `TimeDistributed` while building a Conv2D + RNN model. Also remember that the last layer is the softmax. Design the network in such a way that the model is able to give good accuracy on the least number of parameters so that it can fit in the memory of the webcam."
      ]
    },
    {
      "cell_type": "markdown",
      "metadata": {
        "id": "e7vX-dLUSZdz"
      },
      "source": [
        "## Sample Model"
      ]
    },
    {
      "cell_type": "code",
      "metadata": {
        "collapsed": true,
        "id": "Iq_SB9fJSZd0"
      },
      "source": [
        "class ModelConv3D1(ModelBuilder):\n",
        "    \n",
        "    def define_model(self):\n",
        "\n",
        "        model = Sequential()\n",
        "        model.add(Conv3D(16, (3, 3, 3), padding='same',\n",
        "                 input_shape=(self.frames_to_sample,self.image_height,self.image_width,self.channels)))\n",
        "        model.add(Activation('relu'))\n",
        "        model.add(BatchNormalization())\n",
        "        model.add(MaxPooling3D(pool_size=(2, 2, 2)))\n",
        "\n",
        "        model.add(Conv3D(32, (2, 2, 2), padding='same'))\n",
        "        model.add(Activation('relu'))\n",
        "        model.add(BatchNormalization())\n",
        "        model.add(MaxPooling3D(pool_size=(2, 2, 2)))\n",
        "\n",
        "        model.add(Conv3D(64, (2, 2, 2), padding='same'))\n",
        "        model.add(Activation('relu'))\n",
        "        model.add(BatchNormalization())\n",
        "        model.add(MaxPooling3D(pool_size=(2, 2, 2)))\n",
        "\n",
        "        model.add(Conv3D(128, (2, 2, 2), padding='same'))\n",
        "        model.add(Activation('relu'))\n",
        "        model.add(BatchNormalization())\n",
        "        model.add(MaxPooling3D(pool_size=(2, 2, 2)))\n",
        "\n",
        "        model.add(Flatten())\n",
        "        model.add(Dense(128,activation='relu'))\n",
        "        model.add(BatchNormalization())\n",
        "        model.add(Dropout(0.5))\n",
        "\n",
        "        model.add(Dense(64,activation='relu'))\n",
        "        model.add(BatchNormalization())\n",
        "        model.add(Dropout(0.25))\n",
        "\n",
        "\n",
        "        model.add(Dense(self.num_classes,activation='softmax'))\n",
        "\n",
        "        optimiser = optimizers.Adam()\n",
        "        #optimiser = 'sgd'\n",
        "        model.compile(optimizer=optimiser, loss='categorical_crossentropy', metrics=['categorical_accuracy'])\n",
        "        return model"
      ],
      "execution_count": null,
      "outputs": []
    },
    {
      "cell_type": "code",
      "metadata": {
        "scrolled": true,
        "colab": {
          "base_uri": "https://localhost:8080/"
        },
        "id": "0RGTBN2kSZd0",
        "outputId": "e560f197-2ac3-42d4-b31c-9bd46b3c552a"
      },
      "source": [
        "conv_3d1=ModelConv3D1()\n",
        "conv_3d1.initialize_path(project_folder)\n",
        "conv_3d1.initialize_image_properties(image_height=160,image_width=160)\n",
        "conv_3d1.initialize_hyperparams(frames_to_sample=30,batch_size=40,num_epochs=1)\n",
        "conv_3d1_model=conv_3d1.define_model()\n",
        "conv_3d1_model.summary()"
      ],
      "execution_count": null,
      "outputs": [
        {
          "output_type": "stream",
          "text": [
            "Model: \"sequential\"\n",
            "_________________________________________________________________\n",
            "Layer (type)                 Output Shape              Param #   \n",
            "=================================================================\n",
            "conv3d (Conv3D)              (None, 30, 160, 160, 16)  1312      \n",
            "_________________________________________________________________\n",
            "activation (Activation)      (None, 30, 160, 160, 16)  0         \n",
            "_________________________________________________________________\n",
            "batch_normalization (BatchNo (None, 30, 160, 160, 16)  64        \n",
            "_________________________________________________________________\n",
            "max_pooling3d (MaxPooling3D) (None, 15, 80, 80, 16)    0         \n",
            "_________________________________________________________________\n",
            "conv3d_1 (Conv3D)            (None, 15, 80, 80, 32)    4128      \n",
            "_________________________________________________________________\n",
            "activation_1 (Activation)    (None, 15, 80, 80, 32)    0         \n",
            "_________________________________________________________________\n",
            "batch_normalization_1 (Batch (None, 15, 80, 80, 32)    128       \n",
            "_________________________________________________________________\n",
            "max_pooling3d_1 (MaxPooling3 (None, 7, 40, 40, 32)     0         \n",
            "_________________________________________________________________\n",
            "conv3d_2 (Conv3D)            (None, 7, 40, 40, 64)     16448     \n",
            "_________________________________________________________________\n",
            "activation_2 (Activation)    (None, 7, 40, 40, 64)     0         \n",
            "_________________________________________________________________\n",
            "batch_normalization_2 (Batch (None, 7, 40, 40, 64)     256       \n",
            "_________________________________________________________________\n",
            "max_pooling3d_2 (MaxPooling3 (None, 3, 20, 20, 64)     0         \n",
            "_________________________________________________________________\n",
            "conv3d_3 (Conv3D)            (None, 3, 20, 20, 128)    65664     \n",
            "_________________________________________________________________\n",
            "activation_3 (Activation)    (None, 3, 20, 20, 128)    0         \n",
            "_________________________________________________________________\n",
            "batch_normalization_3 (Batch (None, 3, 20, 20, 128)    512       \n",
            "_________________________________________________________________\n",
            "max_pooling3d_3 (MaxPooling3 (None, 1, 10, 10, 128)    0         \n",
            "_________________________________________________________________\n",
            "flatten (Flatten)            (None, 12800)             0         \n",
            "_________________________________________________________________\n",
            "dense (Dense)                (None, 128)               1638528   \n",
            "_________________________________________________________________\n",
            "batch_normalization_4 (Batch (None, 128)               512       \n",
            "_________________________________________________________________\n",
            "dropout (Dropout)            (None, 128)               0         \n",
            "_________________________________________________________________\n",
            "dense_1 (Dense)              (None, 64)                8256      \n",
            "_________________________________________________________________\n",
            "batch_normalization_5 (Batch (None, 64)                256       \n",
            "_________________________________________________________________\n",
            "dropout_1 (Dropout)          (None, 64)                0         \n",
            "_________________________________________________________________\n",
            "dense_2 (Dense)              (None, 5)                 325       \n",
            "=================================================================\n",
            "Total params: 1,736,389\n",
            "Trainable params: 1,735,525\n",
            "Non-trainable params: 864\n",
            "_________________________________________________________________\n"
          ],
          "name": "stdout"
        }
      ]
    },
    {
      "cell_type": "markdown",
      "metadata": {
        "id": "UNSrV55gSZd2"
      },
      "source": [
        "##### Sample Cropping"
      ]
    },
    {
      "cell_type": "code",
      "metadata": {
        "collapsed": true,
        "id": "CsNkQQnuSZd3"
      },
      "source": [
        "#test_generator=ModelConv3D1()\n",
        "#test_generator.initialize_path(project_folder)\n",
        "#test_generator.initialize_image_properties(image_height=160,image_width=160)\n",
        "#test_generator.initialize_hyperparams(frames_to_sample=30,batch_size=3,num_epochs=1)\n",
        "\n",
        "#g=test_generator.generator(test_generator.val_path,test_generator.val_doc,augment=True)\n",
        "#batch_data, batch_labels=next(g)\n",
        "#fig, axes = plt.subplots(nrows=1, ncols=2)\n",
        "#axes[0].imshow(batch_data[0,15,:,:,:])   \n",
        "#axes[1].imshow(batch_data[3,15,:,:,:])   "
      ],
      "execution_count": null,
      "outputs": []
    },
    {
      "cell_type": "markdown",
      "metadata": {
        "id": "B5unwXS3SZd3"
      },
      "source": [
        "## Experimenting with Image resolution, number of frames to use and batch_size"
      ]
    },
    {
      "cell_type": "code",
      "metadata": {
        "collapsed": true,
        "id": "QTA7RxvFSZd4"
      },
      "source": [
        "#conv_3d1.train_model(conv_3d1_model)"
      ],
      "execution_count": null,
      "outputs": []
    },
    {
      "cell_type": "markdown",
      "metadata": {
        "id": "3fGnnQ6nSZd4"
      },
      "source": [
        "### We had hit the limit on memory resources with image resolution of 160x160 with 30 frames and batch_size of 40...we get the below error\n",
        "\n",
        "ResourceExhaustedError: OOM when allocating tensor with shape[40,16,30,160,160] and type float on /job:localhost/replica:0/task:0/device:GPU:0 by allocator GPU_0_bfc"
      ]
    },
    {
      "cell_type": "code",
      "metadata": {
        "id": "_qnaWc72SZd4",
        "colab": {
          "base_uri": "https://localhost:8080/"
        },
        "outputId": "bd1a87bb-4229-479f-ecef-501eadf774e2"
      },
      "source": [
        "print(\"Memory util is {} Gigs\". format(getsizeof(np.zeros((40,16,30,160,160)))/(1024*1024*1024)))"
      ],
      "execution_count": null,
      "outputs": [
        {
          "output_type": "stream",
          "text": [
            "Memory util is 3.662109524011612 Gigs\n"
          ],
          "name": "stdout"
        }
      ]
    },
    {
      "cell_type": "markdown",
      "metadata": {
        "id": "7lSsKakpSZd5"
      },
      "source": [
        "##### So lets trade-off between these parameters"
      ]
    },
    {
      "cell_type": "markdown",
      "metadata": {
        "collapsed": true,
        "id": "tz8TWCjHSZd5"
      },
      "source": [
        "##### Below are the experiments to see how training time is affected by image resolution, number of images in sequence and batch size"
      ]
    },
    {
      "cell_type": "code",
      "metadata": {
        "colab": {
          "base_uri": "https://localhost:8080/"
        },
        "id": "0ugOBy9_SZd5",
        "outputId": "74251b3e-20d4-42b0-8940-f69468331128"
      },
      "source": [
        "conv_3d1=ModelConv3D1()\n",
        "conv_3d1.initialize_path(project_folder)\n",
        "conv_3d1.initialize_image_properties(image_height=160,image_width=160)\n",
        "conv_3d1.initialize_hyperparams(frames_to_sample=16,batch_size=30,num_epochs=3)\n",
        "conv_3d1_model=conv_3d1.define_model()\n",
        "print(\"Total Params:\", conv_3d1_model.count_params())\n",
        "conv_3d1.train_model(conv_3d1_model)"
      ],
      "execution_count": null,
      "outputs": [
        {
          "output_type": "stream",
          "text": [
            "Total Params: 1736389\n",
            "WARNING:tensorflow:`period` argument is deprecated. Please use `save_freq` to specify the frequency in number of batches seen.\n",
            "Epoch 1/3\n",
            "23/23 [==============================] - 56s 2s/step - loss: 1.8502 - categorical_accuracy: 0.3419 - val_loss: 3.2158 - val_categorical_accuracy: 0.1600\n",
            "\n",
            "Epoch 00001: saving model to nms/model_init_2021-03-0819_32_56.855468/model-00001-1.59002-0.41176-3.21579-0.16000.h5\n",
            "Epoch 2/3\n",
            "23/23 [==============================] - 49s 2s/step - loss: 1.1085 - categorical_accuracy: 0.5434 - val_loss: 4.6664 - val_categorical_accuracy: 0.1600\n",
            "\n",
            "Epoch 00002: saving model to nms/model_init_2021-03-0819_32_56.855468/model-00002-1.10306-0.56712-4.66642-0.16000.h5\n",
            "Epoch 3/3\n",
            "23/23 [==============================] - 48s 2s/step - loss: 0.9563 - categorical_accuracy: 0.6140 - val_loss: 5.0220 - val_categorical_accuracy: 0.1700\n",
            "\n",
            "Epoch 00003: saving model to nms/model_init_2021-03-0819_32_56.855468/model-00003-0.91968-0.61991-5.02204-0.17000.h5\n"
          ],
          "name": "stdout"
        },
        {
          "output_type": "execute_result",
          "data": {
            "text/plain": [
              "<tensorflow.python.keras.callbacks.History at 0x7f7b39d0f6d0>"
            ]
          },
          "metadata": {
            "tags": []
          },
          "execution_count": 37
        }
      ]
    },
    {
      "cell_type": "code",
      "metadata": {
        "colab": {
          "base_uri": "https://localhost:8080/"
        },
        "id": "kyYDAnfsSZd6",
        "outputId": "82c794d3-fd20-425f-a366-f512b4ee3f59"
      },
      "source": [
        "conv_3d1=ModelConv3D1()\n",
        "conv_3d1.initialize_path(project_folder)\n",
        "conv_3d1.initialize_image_properties(image_height=100,image_width=100)\n",
        "conv_3d1.initialize_hyperparams(frames_to_sample=30,batch_size=30,num_epochs=2)\n",
        "conv_3d1_model=conv_3d1.define_model()\n",
        "print(\"Total Params:\", conv_3d1_model.count_params())\n",
        "conv_3d1.train_model(conv_3d1_model)"
      ],
      "execution_count": null,
      "outputs": [
        {
          "output_type": "stream",
          "text": [
            "Total Params: 687813\n",
            "WARNING:tensorflow:`period` argument is deprecated. Please use `save_freq` to specify the frequency in number of batches seen.\n",
            "Epoch 1/2\n",
            "23/23 [==============================] - 88s 4s/step - loss: 1.9821 - categorical_accuracy: 0.2928 - val_loss: 1.8961 - val_categorical_accuracy: 0.2100\n",
            "\n",
            "Epoch 00001: saving model to nms/model_init_2021-03-0819_35_33.365915/model-00001-1.66292-0.37406-1.89608-0.21000.h5\n",
            "Epoch 2/2\n",
            "23/23 [==============================] - 81s 4s/step - loss: 1.1855 - categorical_accuracy: 0.5450 - val_loss: 2.6603 - val_categorical_accuracy: 0.2000\n",
            "\n",
            "Epoch 00002: saving model to nms/model_init_2021-03-0819_35_33.365915/model-00002-1.15708-0.55807-2.66032-0.20000.h5\n"
          ],
          "name": "stdout"
        },
        {
          "output_type": "execute_result",
          "data": {
            "text/plain": [
              "<tensorflow.python.keras.callbacks.History at 0x7f7b3804c450>"
            ]
          },
          "metadata": {
            "tags": []
          },
          "execution_count": 38
        }
      ]
    },
    {
      "cell_type": "code",
      "metadata": {
        "id": "MNpJi5UaSZd6",
        "colab": {
          "base_uri": "https://localhost:8080/"
        },
        "outputId": "f9d46363-6792-43fd-b96f-05db453c538e"
      },
      "source": [
        "conv_3d1=ModelConv3D1()\n",
        "conv_3d1.initialize_path(project_folder)\n",
        "conv_3d1.initialize_image_properties(image_height=100,image_width=100)\n",
        "conv_3d1.initialize_hyperparams(frames_to_sample=30,batch_size=60,num_epochs=2)\n",
        "conv_3d1_model=conv_3d1.define_model()\n",
        "print(\"Total Params:\", conv_3d1_model.count_params())\n",
        "conv_3d1.train_model(conv_3d1_model)"
      ],
      "execution_count": null,
      "outputs": [
        {
          "output_type": "stream",
          "text": [
            "Total Params: 687813\n",
            "WARNING:tensorflow:`period` argument is deprecated. Please use `save_freq` to specify the frequency in number of batches seen.\n",
            "Epoch 1/2\n",
            "12/12 [==============================] - 86s 8s/step - loss: 1.7092 - categorical_accuracy: 0.3944 - val_loss: 1.6291 - val_categorical_accuracy: 0.1700\n",
            "\n",
            "Epoch 00001: saving model to nms/model_init_2021-03-0819_38_24.990876/model-00001-1.57326-0.44193-1.62913-0.17000.h5\n",
            "Epoch 2/2\n",
            "12/12 [==============================] - 81s 7s/step - loss: 1.0680 - categorical_accuracy: 0.5672 - val_loss: 2.1958 - val_categorical_accuracy: 0.1600\n",
            "\n",
            "Epoch 00002: saving model to nms/model_init_2021-03-0819_38_24.990876/model-00002-1.11502-0.56109-2.19585-0.16000.h5\n"
          ],
          "name": "stdout"
        },
        {
          "output_type": "execute_result",
          "data": {
            "text/plain": [
              "<tensorflow.python.keras.callbacks.History at 0x7f7b20568f10>"
            ]
          },
          "metadata": {
            "tags": []
          },
          "execution_count": 39
        }
      ]
    },
    {
      "cell_type": "code",
      "metadata": {
        "id": "NXDKbEfXSZd6",
        "colab": {
          "base_uri": "https://localhost:8080/"
        },
        "outputId": "222918aa-fe47-406f-ba29-21b4fcad9f1a"
      },
      "source": [
        "conv_3d1=ModelConv3D1()\n",
        "conv_3d1.initialize_path(project_folder)\n",
        "conv_3d1.initialize_image_properties(image_height=100,image_width=100)\n",
        "conv_3d1.initialize_hyperparams(frames_to_sample=16,batch_size=60,num_epochs=2)\n",
        "conv_3d1_model=conv_3d1.define_model()\n",
        "print(\"Total Params:\", conv_3d1_model.count_params())\n",
        "conv_3d1.train_model(conv_3d1_model)"
      ],
      "execution_count": null,
      "outputs": [
        {
          "output_type": "stream",
          "text": [
            "Total Params: 687813\n",
            "WARNING:tensorflow:`period` argument is deprecated. Please use `save_freq` to specify the frequency in number of batches seen.\n",
            "Epoch 1/2\n",
            "12/12 [==============================] - 46s 4s/step - loss: 1.7199 - categorical_accuracy: 0.3698 - val_loss: 1.6863 - val_categorical_accuracy: 0.1600\n",
            "\n",
            "Epoch 00001: saving model to nms/model_init_2021-03-0819_41_18.512239/model-00001-1.53570-0.42685-1.68631-0.16000.h5\n",
            "Epoch 2/2\n",
            "12/12 [==============================] - 43s 4s/step - loss: 1.1233 - categorical_accuracy: 0.5628 - val_loss: 2.6123 - val_categorical_accuracy: 0.1700\n",
            "\n",
            "Epoch 00002: saving model to nms/model_init_2021-03-0819_41_18.512239/model-00002-1.10500-0.56109-2.61234-0.17000.h5\n"
          ],
          "name": "stdout"
        },
        {
          "output_type": "execute_result",
          "data": {
            "text/plain": [
              "<tensorflow.python.keras.callbacks.History at 0x7f79f662d250>"
            ]
          },
          "metadata": {
            "tags": []
          },
          "execution_count": 40
        }
      ]
    },
    {
      "cell_type": "code",
      "metadata": {
        "id": "HyjZF4JjSZd7",
        "colab": {
          "base_uri": "https://localhost:8080/"
        },
        "outputId": "ca0e0212-6dda-4db5-b8ff-0e055b535840"
      },
      "source": [
        "conv_3d1=ModelConv3D1()\n",
        "conv_3d1.initialize_path(project_folder)\n",
        "conv_3d1.initialize_image_properties(image_height=100,image_width=100)\n",
        "conv_3d1.initialize_hyperparams(frames_to_sample=16,batch_size=80,num_epochs=2)\n",
        "conv_3d1_model=conv_3d1.define_model()\n",
        "print(\"Total Params:\", conv_3d1_model.count_params())\n",
        "conv_3d1.train_model(conv_3d1_model)"
      ],
      "execution_count": null,
      "outputs": [
        {
          "output_type": "stream",
          "text": [
            "Total Params: 687813\n",
            "WARNING:tensorflow:`period` argument is deprecated. Please use `save_freq` to specify the frequency in number of batches seen.\n",
            "Epoch 1/2\n",
            "9/9 [==============================] - 48s 6s/step - loss: 1.9196 - categorical_accuracy: 0.3042 - val_loss: 1.5383 - val_categorical_accuracy: 0.3900\n",
            "\n",
            "Epoch 00001: saving model to nms/model_init_2021-03-0819_42_50.819133/model-00001-1.75043-0.37406-1.53826-0.39000.h5\n",
            "Epoch 2/2\n",
            "9/9 [==============================] - 45s 6s/step - loss: 1.1985 - categorical_accuracy: 0.5168 - val_loss: 1.9465 - val_categorical_accuracy: 0.1600\n",
            "\n",
            "Epoch 00002: saving model to nms/model_init_2021-03-0819_42_50.819133/model-00002-1.19511-0.52036-1.94654-0.16000.h5\n"
          ],
          "name": "stdout"
        },
        {
          "output_type": "execute_result",
          "data": {
            "text/plain": [
              "<tensorflow.python.keras.callbacks.History at 0x7f79f619e650>"
            ]
          },
          "metadata": {
            "tags": []
          },
          "execution_count": 41
        }
      ]
    },
    {
      "cell_type": "code",
      "metadata": {
        "id": "p2Pb_MkjSZd8",
        "colab": {
          "base_uri": "https://localhost:8080/"
        },
        "outputId": "ec80d43c-64ce-4ef0-fd0a-5899dc9c7d23"
      },
      "source": [
        "conv_3d1=ModelConv3D1()\n",
        "conv_3d1.initialize_path(project_folder)\n",
        "conv_3d1.initialize_image_properties(image_height=160,image_width=160)\n",
        "conv_3d1.initialize_hyperparams(frames_to_sample=30,batch_size=15,num_epochs=2)\n",
        "conv_3d1_model=conv_3d1.define_model()\n",
        "print(\"Total Params:\", conv_3d1_model.count_params())\n",
        "conv_3d1.train_model(conv_3d1_model)"
      ],
      "execution_count": null,
      "outputs": [
        {
          "output_type": "stream",
          "text": [
            "Total Params: 1736389\n",
            "WARNING:tensorflow:`period` argument is deprecated. Please use `save_freq` to specify the frequency in number of batches seen.\n",
            "Epoch 1/2\n",
            "45/45 [==============================] - 106s 2s/step - loss: 1.7020 - categorical_accuracy: 0.3791 - val_loss: 5.7239 - val_categorical_accuracy: 0.1600\n",
            "\n",
            "Epoch 00001: saving model to nms/model_init_2021-03-0819_44_27.651676/model-00001-1.53178-0.44344-5.72392-0.16000.h5\n",
            "Epoch 2/2\n",
            "45/45 [==============================] - 103s 2s/step - loss: 1.1415 - categorical_accuracy: 0.5691 - val_loss: 9.6780 - val_categorical_accuracy: 0.1700\n",
            "\n",
            "Epoch 00002: saving model to nms/model_init_2021-03-0819_44_27.651676/model-00002-1.17232-0.56109-9.67800-0.17000.h5\n"
          ],
          "name": "stdout"
        },
        {
          "output_type": "execute_result",
          "data": {
            "text/plain": [
              "<tensorflow.python.keras.callbacks.History at 0x7f79a626fcd0>"
            ]
          },
          "metadata": {
            "tags": []
          },
          "execution_count": 42
        }
      ]
    },
    {
      "cell_type": "code",
      "metadata": {
        "id": "AB8tKCPwSZd8",
        "colab": {
          "base_uri": "https://localhost:8080/"
        },
        "outputId": "cdadc257-983f-4b1d-f8e2-e75096cb6755"
      },
      "source": [
        "conv_3d1=ModelConv3D1()\n",
        "conv_3d1.initialize_path(project_folder)\n",
        "conv_3d1.initialize_image_properties(image_height=160,image_width=160)\n",
        "conv_3d1.initialize_hyperparams(frames_to_sample=16,batch_size=15,num_epochs=2)\n",
        "conv_3d1_model=conv_3d1.define_model()\n",
        "print(\"Total Params:\", conv_3d1_model.count_params())\n",
        "conv_3d1.train_model(conv_3d1_model)"
      ],
      "execution_count": null,
      "outputs": [
        {
          "output_type": "stream",
          "text": [
            "Total Params: 1736389\n",
            "WARNING:tensorflow:`period` argument is deprecated. Please use `save_freq` to specify the frequency in number of batches seen.\n",
            "Epoch 1/2\n",
            "45/45 [==============================] - 61s 1s/step - loss: 1.8701 - categorical_accuracy: 0.3237 - val_loss: 3.7762 - val_categorical_accuracy: 0.1600\n",
            "\n",
            "Epoch 00001: saving model to nms/model_init_2021-03-0819_47_59.240507/model-00001-1.59809-0.40121-3.77622-0.16000.h5\n",
            "Epoch 2/2\n",
            "45/45 [==============================] - 58s 1s/step - loss: 1.1567 - categorical_accuracy: 0.5464 - val_loss: 5.0418 - val_categorical_accuracy: 0.1300\n",
            "\n",
            "Epoch 00002: saving model to nms/model_init_2021-03-0819_47_59.240507/model-00002-1.12218-0.58069-5.04183-0.13000.h5\n"
          ],
          "name": "stdout"
        },
        {
          "output_type": "execute_result",
          "data": {
            "text/plain": [
              "<tensorflow.python.keras.callbacks.History at 0x7f79982d9f90>"
            ]
          },
          "metadata": {
            "tags": []
          },
          "execution_count": 43
        }
      ]
    },
    {
      "cell_type": "code",
      "metadata": {
        "id": "sXQ-5OZBSZd8",
        "colab": {
          "base_uri": "https://localhost:8080/"
        },
        "outputId": "62e8be61-5b2e-4591-ad88-a7f1f0ae17fe"
      },
      "source": [
        "conv_3d1=ModelConv3D1()\n",
        "conv_3d1.initialize_path(project_folder)\n",
        "conv_3d1.initialize_image_properties(image_height=100,image_width=100)\n",
        "conv_3d1.initialize_hyperparams(frames_to_sample=16,batch_size=15,num_epochs=2)\n",
        "conv_3d1_model=conv_3d1.define_model()\n",
        "print(\"Total Params:\", conv_3d1_model.count_params())\n",
        "conv_3d1.train_model(conv_3d1_model)"
      ],
      "execution_count": null,
      "outputs": [
        {
          "output_type": "stream",
          "text": [
            "Total Params: 687813\n",
            "WARNING:tensorflow:`period` argument is deprecated. Please use `save_freq` to specify the frequency in number of batches seen.\n",
            "Epoch 1/2\n",
            "45/45 [==============================] - 53s 1s/step - loss: 2.0969 - categorical_accuracy: 0.2761 - val_loss: 4.4298 - val_categorical_accuracy: 0.2100\n",
            "\n",
            "Epoch 00001: saving model to nms/model_init_2021-03-0819_49_58.878135/model-00001-1.73584-0.36199-4.42976-0.21000.h5\n",
            "Epoch 2/2\n",
            "45/45 [==============================] - 52s 1s/step - loss: 1.2705 - categorical_accuracy: 0.4932 - val_loss: 7.1640 - val_categorical_accuracy: 0.2300\n",
            "\n",
            "Epoch 00002: saving model to nms/model_init_2021-03-0819_49_58.878135/model-00002-1.24712-0.51131-7.16401-0.23000.h5\n"
          ],
          "name": "stdout"
        },
        {
          "output_type": "execute_result",
          "data": {
            "text/plain": [
              "<tensorflow.python.keras.callbacks.History at 0x7f798e583450>"
            ]
          },
          "metadata": {
            "tags": []
          },
          "execution_count": 44
        }
      ]
    },
    {
      "cell_type": "code",
      "metadata": {
        "id": "sMMgDwDwSZd9",
        "colab": {
          "base_uri": "https://localhost:8080/"
        },
        "outputId": "d4a0f020-5849-40f3-d567-d485da32ccf1"
      },
      "source": [
        "conv_3d1=ModelConv3D1()\n",
        "conv_3d1.initialize_path(project_folder)\n",
        "conv_3d1.initialize_image_properties(image_height=100,image_width=100)\n",
        "conv_3d1.initialize_hyperparams(frames_to_sample=16,batch_size=10,num_epochs=2)\n",
        "conv_3d1_model=conv_3d1.define_model()\n",
        "print(\"Total Params:\", conv_3d1_model.count_params())\n",
        "conv_3d1.train_model(conv_3d1_model)"
      ],
      "execution_count": null,
      "outputs": [
        {
          "output_type": "stream",
          "text": [
            "Total Params: 687813\n",
            "WARNING:tensorflow:`period` argument is deprecated. Please use `save_freq` to specify the frequency in number of batches seen.\n",
            "Epoch 1/2\n",
            "67/67 [==============================] - 54s 789ms/step - loss: 1.8236 - categorical_accuracy: 0.3098 - val_loss: 4.4097 - val_categorical_accuracy: 0.1600\n",
            "\n",
            "Epoch 00001: saving model to nms/model_init_2021-03-0819_51_45.058741/model-00001-1.63712-0.37406-4.40967-0.16000.h5\n",
            "Epoch 2/2\n",
            "67/67 [==============================] - 52s 793ms/step - loss: 1.2867 - categorical_accuracy: 0.4730 - val_loss: 4.8876 - val_categorical_accuracy: 0.1500\n",
            "\n",
            "Epoch 00002: saving model to nms/model_init_2021-03-0819_51_45.058741/model-00002-1.23552-0.49170-4.88764-0.15000.h5\n"
          ],
          "name": "stdout"
        },
        {
          "output_type": "execute_result",
          "data": {
            "text/plain": [
              "<tensorflow.python.keras.callbacks.History at 0x7f798e07ff50>"
            ]
          },
          "metadata": {
            "tags": []
          },
          "execution_count": 45
        }
      ]
    },
    {
      "cell_type": "code",
      "metadata": {
        "id": "IP_x5-u9SZd9",
        "colab": {
          "base_uri": "https://localhost:8080/"
        },
        "outputId": "a0ca4501-dbc2-428a-c3ae-89527ba51c71"
      },
      "source": [
        "conv_3d1=ModelConv3D1()\n",
        "conv_3d1.initialize_path(project_folder)\n",
        "conv_3d1.initialize_image_properties(image_height=100,image_width=100)\n",
        "conv_3d1.initialize_hyperparams(frames_to_sample=30,batch_size=10,num_epochs=2)\n",
        "conv_3d1_model=conv_3d1.define_model()\n",
        "print(\"Total Params:\", conv_3d1_model.count_params())\n",
        "conv_3d1.train_model(conv_3d1_model)"
      ],
      "execution_count": null,
      "outputs": [
        {
          "output_type": "stream",
          "text": [
            "Total Params: 687813\n",
            "WARNING:tensorflow:`period` argument is deprecated. Please use `save_freq` to specify the frequency in number of batches seen.\n",
            "Epoch 1/2\n",
            "67/67 [==============================] - 95s 1s/step - loss: 1.8475 - categorical_accuracy: 0.3136 - val_loss: 5.1247 - val_categorical_accuracy: 0.2100\n",
            "\n",
            "Epoch 00001: saving model to nms/model_init_2021-03-0819_53_32.217079/model-00001-1.64588-0.36652-5.12471-0.21000.h5\n",
            "Epoch 2/2\n",
            "67/67 [==============================] - 94s 1s/step - loss: 1.3030 - categorical_accuracy: 0.4933 - val_loss: 5.5145 - val_categorical_accuracy: 0.2000\n",
            "\n",
            "Epoch 00002: saving model to nms/model_init_2021-03-0819_53_32.217079/model-00002-1.33252-0.49170-5.51452-0.20000.h5\n"
          ],
          "name": "stdout"
        },
        {
          "output_type": "execute_result",
          "data": {
            "text/plain": [
              "<tensorflow.python.keras.callbacks.History at 0x7f7984316850>"
            ]
          },
          "metadata": {
            "tags": []
          },
          "execution_count": 46
        }
      ]
    },
    {
      "cell_type": "code",
      "metadata": {
        "id": "kcJ6uyqlSZd9",
        "colab": {
          "base_uri": "https://localhost:8080/"
        },
        "outputId": "d423b6cb-ad2e-4e99-e4d6-1f40ee258f50"
      },
      "source": [
        "conv_3d1=ModelConv3D1()\n",
        "conv_3d1.initialize_path(project_folder)\n",
        "conv_3d1.initialize_image_properties(image_height=160,image_width=160)\n",
        "conv_3d1.initialize_hyperparams(frames_to_sample=30,batch_size=10,num_epochs=2)\n",
        "conv_3d1_model=conv_3d1.define_model()\n",
        "print(\"Total Params:\", conv_3d1_model.count_params())\n",
        "conv_3d1.train_model(conv_3d1_model)"
      ],
      "execution_count": null,
      "outputs": [
        {
          "output_type": "stream",
          "text": [
            "Total Params: 1736389\n",
            "WARNING:tensorflow:`period` argument is deprecated. Please use `save_freq` to specify the frequency in number of batches seen.\n",
            "Epoch 1/2\n"
          ],
          "name": "stdout"
        }
      ]
    },
    {
      "cell_type": "code",
      "metadata": {
        "id": "y6Jd8HxPSZd-"
      },
      "source": [
        "conv_3d1=ModelConv3D1()\n",
        "conv_3d1.initialize_path(project_folder)\n",
        "conv_3d1.initialize_image_properties(image_height=160,image_width=160)\n",
        "conv_3d1.initialize_hyperparams(frames_to_sample=16,batch_size=10,num_epochs=2)\n",
        "conv_3d1_model=conv_3d1.define_model()\n",
        "print(\"Total Params:\", conv_3d1_model.count_params())\n",
        "conv_3d1.train_model(conv_3d1_model)"
      ],
      "execution_count": null,
      "outputs": []
    },
    {
      "cell_type": "code",
      "metadata": {
        "id": "SyF5HvPbSZd-"
      },
      "source": [
        "conv_3d1=ModelConv3D1()\n",
        "conv_3d1.initialize_path(project_folder)\n",
        "conv_3d1.initialize_image_properties(image_height=160,image_width=160)\n",
        "conv_3d1.initialize_hyperparams(frames_to_sample=16,batch_size=40,num_epochs=2)\n",
        "conv_3d1_model=conv_3d1.define_model()\n",
        "print(\"Total Params:\", conv_3d1_model.count_params())\n",
        "conv_3d1.train_model(conv_3d1_model)"
      ],
      "execution_count": null,
      "outputs": []
    },
    {
      "cell_type": "markdown",
      "metadata": {
        "id": "WfSk9jPBSZd_"
      },
      "source": [
        "##### As we see from the above experiments image resolution and number of frames in sequence have more impact on training time than batch_size"
      ]
    },
    {
      "cell_type": "markdown",
      "metadata": {
        "collapsed": true,
        "id": "ReC0h0FmSZd_"
      },
      "source": [
        "##### So experimentations are carried with batch size fixed around 15-40 and changing the resolution and number of image per sequence based on the device memory constraints . Models are designed such that their memory foot print is less than 50 MB which corresponds to 4.3 million parameters assuming the datatype size of parameters to be 12 bytes"
      ]
    },
    {
      "cell_type": "markdown",
      "metadata": {
        "id": "jvruOWLISZd_"
      },
      "source": [
        "# Model 1 - Base Model - No Data Augmentation Batch Size 40 and Epoch 15"
      ]
    },
    {
      "cell_type": "code",
      "metadata": {
        "collapsed": true,
        "id": "XSgiK6xmSZd_"
      },
      "source": [
        "class ModelConv3D1(ModelBuilder):\n",
        "    \n",
        "    def define_model(self,filtersize=(3,3,3),dense_neurons=64,dropout=0.25):\n",
        "\n",
        "        model = Sequential()\n",
        "        model.add(Conv3D(16, filtersize, padding='same',\n",
        "                 input_shape=(self.frames_to_sample,self.image_height,self.image_width,self.channels)))\n",
        "        model.add(Activation('relu'))\n",
        "        model.add(BatchNormalization())\n",
        "        model.add(MaxPooling3D(pool_size=(2, 2, 2)))\n",
        "\n",
        "        model.add(Conv3D(32, filtersize, padding='same'))\n",
        "        model.add(Activation('relu'))\n",
        "        model.add(BatchNormalization())\n",
        "        model.add(MaxPooling3D(pool_size=(2, 2, 2)))\n",
        "\n",
        "        model.add(Conv3D(64, filtersize, padding='same'))\n",
        "        model.add(Activation('relu'))\n",
        "        model.add(BatchNormalization())\n",
        "        model.add(MaxPooling3D(pool_size=(2, 2, 2)))\n",
        "\n",
        "        model.add(Conv3D(128, filtersize, padding='same'))\n",
        "        model.add(Activation('relu'))\n",
        "        model.add(BatchNormalization())\n",
        "        model.add(MaxPooling3D(pool_size=(2, 2, 2)))\n",
        "\n",
        "        model.add(Flatten())\n",
        "        model.add(Dense(dense_neurons,activation='relu'))\n",
        "        model.add(BatchNormalization())\n",
        "        model.add(Dropout(dropout))\n",
        "\n",
        "        model.add(Dense(dense_neurons,activation='relu'))\n",
        "        model.add(BatchNormalization())\n",
        "        model.add(Dropout(dropout))\n",
        "\n",
        "\n",
        "        model.add(Dense(self.num_classes,activation='softmax'))\n",
        "\n",
        "        optimiser = optimizers.Adam()\n",
        "        model.compile(optimizer=optimiser, loss='categorical_crossentropy', metrics=['categorical_accuracy'])\n",
        "        return model"
      ],
      "execution_count": null,
      "outputs": []
    },
    {
      "cell_type": "code",
      "metadata": {
        "id": "hzs6KG9iSZd_"
      },
      "source": [
        "conv_3d1=ModelConv3D1()\n",
        "conv_3d1.initialize_path(project_folder)\n",
        "conv_3d1.initialize_image_properties(image_height=160,image_width=160)\n",
        "conv_3d1.initialize_hyperparams(frames_to_sample=20,batch_size=40,num_epochs=15)\n",
        "conv_3d1_model=conv_3d1.define_model()\n",
        "conv_3d1_model.summary()"
      ],
      "execution_count": null,
      "outputs": []
    },
    {
      "cell_type": "code",
      "metadata": {
        "id": "UJve_tn_SZeA"
      },
      "source": [
        "print(\"Total Params:\", conv_3d1_model.count_params())\n",
        "history_model1 = conv_3d1.train_model(conv_3d1_model)"
      ],
      "execution_count": null,
      "outputs": []
    },
    {
      "cell_type": "code",
      "metadata": {
        "id": "WbXjI2lGSZeB"
      },
      "source": [
        "plot(history_model1)"
      ],
      "execution_count": null,
      "outputs": []
    },
    {
      "cell_type": "markdown",
      "metadata": {
        "id": "vwTY8f0NSZeB"
      },
      "source": [
        "##### Model is clearly overfitting. So we need to do data augmentation"
      ]
    },
    {
      "cell_type": "markdown",
      "metadata": {
        "id": "Z2a4tBz2SZeB"
      },
      "source": [
        "# Model 2 - Augment Data , (3,3,3) filter & 160x160 image resolution"
      ]
    },
    {
      "cell_type": "code",
      "metadata": {
        "id": "LH8lxcZbSZeB"
      },
      "source": [
        "conv_3d2=ModelConv3D1()\n",
        "conv_3d2.initialize_path(project_folder)\n",
        "conv_3d2.initialize_image_properties(image_height=160,image_width=160)\n",
        "conv_3d2.initialize_hyperparams(frames_to_sample=20,batch_size=20,num_epochs=25)\n",
        "conv_3d2_model=conv_3d2.define_model(dense_neurons=256,dropout=0.5)\n",
        "conv_3d2_model.summary()"
      ],
      "execution_count": null,
      "outputs": []
    },
    {
      "cell_type": "code",
      "metadata": {
        "id": "8pDLTdeVSZeB"
      },
      "source": [
        "print(\"Total Params:\", conv_3d2_model.count_params())\n",
        "history_model2=conv_3d2.train_model(conv_3d2_model,augment_data=True)"
      ],
      "execution_count": null,
      "outputs": []
    },
    {
      "cell_type": "code",
      "metadata": {
        "id": "wWWhgKUfSZeB"
      },
      "source": [
        "plot(history_model2)"
      ],
      "execution_count": null,
      "outputs": []
    },
    {
      "cell_type": "markdown",
      "metadata": {
        "id": "xRPLzSUnSZeC"
      },
      "source": [
        "##### Model is not overfitting and we get a best validation accuracy of 85% and training accuracy of 91%. Next we will try to reduce the filter size and image resolution and see if get better results. Moreover since we see minor oscillations  in loss, let's try lowering the learning rate to 0.0002"
      ]
    },
    {
      "cell_type": "markdown",
      "metadata": {
        "id": "tOFLwY3VSZeC"
      },
      "source": [
        "# Model 3 - Reduce filter size to (2,2,2) and image res to 120 x  120"
      ]
    },
    {
      "cell_type": "code",
      "metadata": {
        "collapsed": true,
        "id": "X--J6JKASZeD"
      },
      "source": [
        "class ModelConv3D3(ModelBuilder):\n",
        "    \n",
        "    def define_model(self,filtersize=(3,3,3),dense_neurons=64,dropout=0.25):\n",
        "\n",
        "        model = Sequential()\n",
        "        model.add(Conv3D(16, filtersize, padding='same',\n",
        "                 input_shape=(self.frames_to_sample,self.image_height,self.image_width,self.channels)))\n",
        "        model.add(Activation('relu'))\n",
        "        model.add(BatchNormalization())\n",
        "        model.add(MaxPooling3D(pool_size=(2, 2, 2)))\n",
        "\n",
        "        model.add(Conv3D(32, filtersize, padding='same'))\n",
        "        model.add(Activation('relu'))\n",
        "        model.add(BatchNormalization())\n",
        "        model.add(MaxPooling3D(pool_size=(2, 2, 2)))\n",
        "\n",
        "        model.add(Conv3D(64, filtersize, padding='same'))\n",
        "        model.add(Activation('relu'))\n",
        "        model.add(BatchNormalization())\n",
        "        model.add(MaxPooling3D(pool_size=(2, 2, 2)))\n",
        "\n",
        "        model.add(Conv3D(128, filtersize, padding='same'))\n",
        "        model.add(Activation('relu'))\n",
        "        model.add(BatchNormalization())\n",
        "        model.add(MaxPooling3D(pool_size=(2, 2, 2)))\n",
        "\n",
        "        model.add(Flatten())\n",
        "        model.add(Dense(dense_neurons,activation='relu'))\n",
        "        model.add(BatchNormalization())\n",
        "        model.add(Dropout(dropout))\n",
        "\n",
        "        model.add(Dense(dense_neurons,activation='relu'))\n",
        "        model.add(BatchNormalization())\n",
        "        model.add(Dropout(dropout))\n",
        "\n",
        "\n",
        "        model.add(Dense(self.num_classes,activation='softmax'))\n",
        "\n",
        "        optimiser = optimizers.Adam(lr=0.0002)\n",
        "        model.compile(optimizer=optimiser, loss='categorical_crossentropy', metrics=['categorical_accuracy'])\n",
        "        return model"
      ],
      "execution_count": null,
      "outputs": []
    },
    {
      "cell_type": "code",
      "metadata": {
        "id": "QdyGR8VrSZeD"
      },
      "source": [
        "conv_3d3=ModelConv3D3()\n",
        "conv_3d3.initialize_path(project_folder)\n",
        "conv_3d3.initialize_image_properties(image_height=120,image_width=120)\n",
        "conv_3d3.initialize_hyperparams(frames_to_sample=16,batch_size=30,num_epochs=30)\n",
        "conv_3d3_model=conv_3d3.define_model(filtersize=(2,2,2),dense_neurons=256,dropout=0.5)\n",
        "conv_3d3_model.summary()"
      ],
      "execution_count": null,
      "outputs": []
    },
    {
      "cell_type": "code",
      "metadata": {
        "id": "YGBuyYi6SZeD"
      },
      "source": [
        "print(\"Total Params:\", conv_3d3_model.count_params())\n",
        "history_model3=conv_3d3.train_model(conv_3d3_model,augment_data=True)"
      ],
      "execution_count": null,
      "outputs": []
    },
    {
      "cell_type": "code",
      "metadata": {
        "id": "Za1GjT6GSZeE"
      },
      "source": [
        "plot(history_model3)"
      ],
      "execution_count": null,
      "outputs": []
    },
    {
      "cell_type": "markdown",
      "metadata": {
        "id": "H70Y3BI9SZeE"
      },
      "source": [
        "##### Model has a  best validation accuracy of 84% and training accuracy of 84% . Also we were able to reduce the parameter size by half the earlier model. Let's trying adding more layers"
      ]
    },
    {
      "cell_type": "markdown",
      "metadata": {
        "id": "b62CTu9ZSZeF"
      },
      "source": [
        "# Model 4 - Adding more layers"
      ]
    },
    {
      "cell_type": "code",
      "metadata": {
        "collapsed": true,
        "id": "1BXWcB3NSZeF"
      },
      "source": [
        "class ModelConv3D4(ModelBuilder):\n",
        "    \n",
        "    def define_model(self,filtersize=(3,3,3),dense_neurons=64,dropout=0.25):\n",
        "\n",
        "        model = Sequential()\n",
        "        model.add(Conv3D(16, filtersize, padding='same',\n",
        "                 input_shape=(self.frames_to_sample,self.image_height,self.image_width,self.channels)))\n",
        "        model.add(Activation('relu'))\n",
        "        model.add(BatchNormalization())\n",
        "        \n",
        "        model.add(Conv3D(16, filtersize, padding='same',\n",
        "                 input_shape=(self.frames_to_sample,self.image_height,self.image_width,self.channels)))\n",
        "        model.add(Activation('relu'))\n",
        "        model.add(BatchNormalization())\n",
        "        \n",
        "        model.add(MaxPooling3D(pool_size=(2, 2, 2)))\n",
        "\n",
        "        model.add(Conv3D(32, filtersize, padding='same'))\n",
        "        model.add(Activation('relu'))\n",
        "        model.add(BatchNormalization())\n",
        "        \n",
        "        model.add(Conv3D(32, filtersize, padding='same'))\n",
        "        model.add(Activation('relu'))\n",
        "        model.add(BatchNormalization())\n",
        "        \n",
        "        model.add(MaxPooling3D(pool_size=(2, 2, 2)))\n",
        "\n",
        "        model.add(Conv3D(64, filtersize, padding='same'))\n",
        "        model.add(Activation('relu'))\n",
        "        model.add(BatchNormalization())\n",
        "        \n",
        "        model.add(Conv3D(64, filtersize, padding='same'))\n",
        "        model.add(Activation('relu'))\n",
        "        model.add(BatchNormalization())\n",
        "        \n",
        "        model.add(MaxPooling3D(pool_size=(2, 2, 2)))\n",
        "\n",
        "        model.add(Conv3D(128, filtersize, padding='same'))\n",
        "        model.add(Activation('relu'))\n",
        "        model.add(BatchNormalization())\n",
        "        \n",
        "        model.add(Conv3D(128, filtersize, padding='same'))\n",
        "        model.add(Activation('relu'))\n",
        "        model.add(BatchNormalization())\n",
        "        \n",
        "        model.add(MaxPooling3D(pool_size=(2, 2, 2)))\n",
        "        \n",
        "\n",
        "        model.add(Flatten())\n",
        "        model.add(Dense(dense_neurons,activation='relu'))\n",
        "        model.add(BatchNormalization())\n",
        "        model.add(Dropout(dropout))\n",
        "\n",
        "        model.add(Dense(dense_neurons,activation='relu'))\n",
        "        model.add(BatchNormalization())\n",
        "        model.add(Dropout(dropout))\n",
        "\n",
        "\n",
        "        model.add(Dense(self.num_classes,activation='softmax'))\n",
        "\n",
        "        optimiser = optimizers.Adam()\n",
        "        model.compile(optimizer=optimiser, loss='categorical_crossentropy', metrics=['categorical_accuracy'])\n",
        "        return model"
      ],
      "execution_count": null,
      "outputs": []
    },
    {
      "cell_type": "code",
      "metadata": {
        "id": "f0xw9bE8SZeF"
      },
      "source": [
        "conv_3d4=ModelConv3D4()\n",
        "conv_3d4.initialize_path(project_folder)\n",
        "conv_3d4.initialize_image_properties(image_height=120,image_width=120)\n",
        "conv_3d4.initialize_hyperparams(frames_to_sample=16,batch_size=20,num_epochs=30)\n",
        "conv_3d4_model=conv_3d4.define_model(filtersize=(3,3,3),dense_neurons=256,dropout=0.5)\n",
        "conv_3d4_model.summary()"
      ],
      "execution_count": null,
      "outputs": []
    },
    {
      "cell_type": "code",
      "metadata": {
        "id": "hLfpnKShSZeF"
      },
      "source": [
        "print(\"Total Params:\", conv_3d4_model.count_params())\n",
        "history_model4=conv_3d4.train_model(conv_3d4_model,augment_data=True)"
      ],
      "execution_count": null,
      "outputs": []
    },
    {
      "cell_type": "code",
      "metadata": {
        "id": "J3GQGl9ASZeG"
      },
      "source": [
        "plot(history_model4)"
      ],
      "execution_count": null,
      "outputs": []
    },
    {
      "cell_type": "markdown",
      "metadata": {
        "id": "_GrQBvysSZeG"
      },
      "source": [
        "##### With more layers we dont see much performance improvement. We get a best validation accuracy of 76% . Let's try adding dropouts at the convolution layers"
      ]
    },
    {
      "cell_type": "markdown",
      "metadata": {
        "id": "4VOthS7mSZeG"
      },
      "source": [
        "# Model 5 Adding dropout at convolution layers"
      ]
    },
    {
      "cell_type": "code",
      "metadata": {
        "collapsed": true,
        "id": "KHpA4sTESZeG"
      },
      "source": [
        "class ModelConv3D5(ModelBuilder):\n",
        "    \n",
        "    def define_model(self,filtersize=(3,3,3),dense_neurons=64,dropout=0.25):\n",
        "\n",
        "        model = Sequential()\n",
        "        model.add(Conv3D(16, filtersize, padding='same',\n",
        "                 input_shape=(self.frames_to_sample,self.image_height,self.image_width,self.channels)))\n",
        "        model.add(Activation('relu'))\n",
        "        model.add(BatchNormalization())\n",
        "        \n",
        "        model.add(Conv3D(16, filtersize, padding='same',\n",
        "                 input_shape=(self.frames_to_sample,self.image_height,self.image_width,self.channels)))\n",
        "        model.add(Activation('relu'))\n",
        "        model.add(BatchNormalization())\n",
        "        \n",
        "        model.add(MaxPooling3D(pool_size=(2, 2, 2)))\n",
        "        model.add(Dropout(dropout))\n",
        "\n",
        "        model.add(Conv3D(32, filtersize, padding='same'))\n",
        "        model.add(Activation('relu'))\n",
        "        model.add(BatchNormalization())\n",
        "        \n",
        "        model.add(Conv3D(32, filtersize, padding='same'))\n",
        "        model.add(Activation('relu'))\n",
        "        model.add(BatchNormalization())\n",
        "        \n",
        "        model.add(MaxPooling3D(pool_size=(2, 2, 2)))\n",
        "        model.add(Dropout(dropout))\n",
        "\n",
        "        model.add(Conv3D(64, filtersize, padding='same'))\n",
        "        model.add(Activation('relu'))\n",
        "        model.add(BatchNormalization())\n",
        "        \n",
        "        model.add(Conv3D(64, filtersize, padding='same'))\n",
        "        model.add(Activation('relu'))\n",
        "        model.add(BatchNormalization())\n",
        "        \n",
        "        model.add(MaxPooling3D(pool_size=(2, 2, 2)))\n",
        "        model.add(Dropout(dropout))\n",
        "\n",
        "        model.add(Conv3D(128, filtersize, padding='same'))\n",
        "        model.add(Activation('relu'))\n",
        "        model.add(BatchNormalization())\n",
        "        \n",
        "        model.add(Conv3D(128, filtersize, padding='same'))\n",
        "        model.add(Activation('relu'))\n",
        "        model.add(BatchNormalization())\n",
        "        \n",
        "        model.add(MaxPooling3D(pool_size=(2, 2, 2)))\n",
        "        model.add(Dropout(dropout))\n",
        "        \n",
        "        model.add(Flatten())\n",
        "        model.add(Dense(dense_neurons,activation='relu'))\n",
        "        model.add(BatchNormalization())\n",
        "        model.add(Dropout(dropout))\n",
        "\n",
        "        model.add(Dense(dense_neurons,activation='relu'))\n",
        "        model.add(BatchNormalization())\n",
        "        model.add(Dropout(dropout))\n",
        "\n",
        "\n",
        "        model.add(Dense(self.num_classes,activation='softmax'))\n",
        "\n",
        "        optimiser = optimizers.Adam()\n",
        "        model.compile(optimizer=optimiser, loss='categorical_crossentropy', metrics=['categorical_accuracy'])\n",
        "        return model"
      ],
      "execution_count": null,
      "outputs": []
    },
    {
      "cell_type": "code",
      "metadata": {
        "id": "Xm-UxVCJSZeG"
      },
      "source": [
        "conv_3d5=ModelConv3D5()\n",
        "conv_3d5.initialize_path(project_folder)\n",
        "conv_3d5.initialize_image_properties(image_height=120,image_width=120)\n",
        "conv_3d5.initialize_hyperparams(frames_to_sample=16,batch_size=20,num_epochs=22)\n",
        "conv_3d5_model=conv_3d5.define_model(filtersize=(3,3,3),dense_neurons=256,dropout=0.25)\n",
        "conv_3d5_model.summary()"
      ],
      "execution_count": null,
      "outputs": []
    },
    {
      "cell_type": "code",
      "metadata": {
        "id": "lXm3sgaJSZeG"
      },
      "source": [
        "print(\"Total Params:\", conv_3d5_model.count_params())\n",
        "history_model5=conv_3d5.train_model(conv_3d5_model,augment_data=True)"
      ],
      "execution_count": null,
      "outputs": []
    },
    {
      "cell_type": "code",
      "metadata": {
        "id": "B6rKz7teSZeH"
      },
      "source": [
        "plot(history_model5)"
      ],
      "execution_count": null,
      "outputs": []
    },
    {
      "cell_type": "markdown",
      "metadata": {
        "collapsed": true,
        "id": "eEJ3hxL8SZeH"
      },
      "source": [
        "##### Adding dropouts has further reduced validation accuracy as its not to learn  generalizable features"
      ]
    },
    {
      "cell_type": "markdown",
      "metadata": {
        "id": "NHwYJMbOSZeI"
      },
      "source": [
        "##### All models experimental models above have more than 1 million parameters. Let's try to reduce the model size and see the performance"
      ]
    },
    {
      "cell_type": "markdown",
      "metadata": {
        "id": "x-h8prFfSZeI"
      },
      "source": [
        "# Model 6 - reducing the number of parameters"
      ]
    },
    {
      "cell_type": "code",
      "metadata": {
        "collapsed": true,
        "id": "KSe9JjRkSZeI"
      },
      "source": [
        "class ModelConv3D6(ModelBuilder):\n",
        "    \n",
        "    def define_model(self,dense_neurons=64,dropout=0.25):\n",
        "\n",
        "        model = Sequential()\n",
        "        model.add(Conv3D(16, (3, 3, 3), padding='same',\n",
        "                 input_shape=(self.frames_to_sample,self.image_height,self.image_width,self.channels)))\n",
        "        model.add(Activation('relu'))\n",
        "        model.add(BatchNormalization())\n",
        "        model.add(MaxPooling3D(pool_size=(2, 2, 2)))\n",
        "\n",
        "        model.add(Conv3D(32, (2, 2, 2), padding='same'))\n",
        "        model.add(Activation('relu'))\n",
        "        model.add(BatchNormalization())\n",
        "        model.add(MaxPooling3D(pool_size=(2, 2, 2)))\n",
        "\n",
        "        model.add(Conv3D(64, (2, 2, 2), padding='same'))\n",
        "        model.add(Activation('relu'))\n",
        "        model.add(BatchNormalization())\n",
        "        model.add(MaxPooling3D(pool_size=(2, 2, 2)))\n",
        "\n",
        "        model.add(Conv3D(128, (2, 2, 2), padding='same'))\n",
        "        model.add(Activation('relu'))\n",
        "        model.add(BatchNormalization())\n",
        "        model.add(MaxPooling3D(pool_size=(2, 2, 2)))\n",
        "        \n",
        "        model.add(Flatten())\n",
        "        model.add(Dense(dense_neurons,activation='relu'))\n",
        "        model.add(BatchNormalization())\n",
        "        model.add(Dropout(dropout))\n",
        "\n",
        "        model.add(Dense(dense_neurons,activation='relu'))\n",
        "        model.add(BatchNormalization())\n",
        "        model.add(Dropout(dropout))\n",
        "\n",
        "        model.add(Dense(self.num_classes,activation='softmax'))\n",
        "\n",
        "        optimiser = optimizers.Adam(lr=0.0002)\n",
        "        model.compile(optimizer=optimiser, loss='categorical_crossentropy', metrics=['categorical_accuracy'])\n",
        "        return model"
      ],
      "execution_count": null,
      "outputs": []
    },
    {
      "cell_type": "code",
      "metadata": {
        "id": "iYPks5u9SZeI"
      },
      "source": [
        "conv_3d6=ModelConv3D6()\n",
        "conv_3d6.initialize_path(project_folder)\n",
        "conv_3d6.initialize_image_properties(image_height=100,image_width=100)\n",
        "conv_3d6.initialize_hyperparams(frames_to_sample=16,batch_size=20,num_epochs=30)\n",
        "conv_3d6_model=conv_3d6.define_model(dense_neurons=128,dropout=0.25)\n",
        "conv_3d6_model.summary()"
      ],
      "execution_count": null,
      "outputs": []
    },
    {
      "cell_type": "code",
      "metadata": {
        "id": "q_AAdnWBSZeJ"
      },
      "source": [
        "print(\"Total Params:\", conv_3d6_model.count_params())\n",
        "history_model6=conv_3d6.train_model(conv_3d6_model,augment_data=True)"
      ],
      "execution_count": null,
      "outputs": []
    },
    {
      "cell_type": "code",
      "metadata": {
        "id": "gpZTVB7xSZeJ"
      },
      "source": [
        "plot(history_model6)"
      ],
      "execution_count": null,
      "outputs": []
    },
    {
      "cell_type": "markdown",
      "metadata": {
        "collapsed": true,
        "id": "Nv8K1gwpSZeJ"
      },
      "source": [
        "###### For the above low memory foot print model the best validation accuracy of 77%"
      ]
    },
    {
      "cell_type": "markdown",
      "metadata": {
        "id": "MpgNs1DASZeK"
      },
      "source": [
        "# Model 7 - reducing the number of parameters"
      ]
    },
    {
      "cell_type": "code",
      "metadata": {
        "collapsed": true,
        "id": "w9x3r-iBSZeK"
      },
      "source": [
        "class ModelConv3D7(ModelBuilder):\n",
        "    \n",
        "    def define_model(self,dense_neurons=64,dropout=0.25):\n",
        "\n",
        "        model = Sequential()\n",
        "        model.add(Conv3D(16, (3, 3, 3), padding='same',\n",
        "                 input_shape=(self.frames_to_sample,self.image_height,self.image_width,self.channels)))\n",
        "        model.add(Activation('relu'))\n",
        "        model.add(BatchNormalization())\n",
        "        model.add(MaxPooling3D(pool_size=(2, 2, 2)))\n",
        "\n",
        "        model.add(Conv3D(32, (3, 3, 3), padding='same'))\n",
        "        model.add(Activation('relu'))\n",
        "        model.add(BatchNormalization())\n",
        "        model.add(MaxPooling3D(pool_size=(2, 2, 2)))\n",
        "\n",
        "        model.add(Conv3D(64, (2, 2, 2), padding='same'))\n",
        "        model.add(Activation('relu'))\n",
        "        model.add(BatchNormalization())\n",
        "        model.add(MaxPooling3D(pool_size=(2, 2, 2)))\n",
        "\n",
        "        model.add(Conv3D(128, (2, 2, 2), padding='same'))\n",
        "        model.add(Activation('relu'))\n",
        "        model.add(BatchNormalization())\n",
        "        model.add(MaxPooling3D(pool_size=(2, 2, 2)))\n",
        "        \n",
        "        model.add(Flatten())\n",
        "        model.add(Dense(dense_neurons,activation='relu'))\n",
        "        model.add(BatchNormalization())\n",
        "        model.add(Dropout(dropout))\n",
        "\n",
        "        model.add(Dense(dense_neurons,activation='relu'))\n",
        "        model.add(BatchNormalization())\n",
        "        model.add(Dropout(dropout))\n",
        "\n",
        "        model.add(Dense(self.num_classes,activation='softmax'))\n",
        "\n",
        "        optimiser = optimizers.Adam(lr=0.0002)\n",
        "        model.compile(optimizer=optimiser, loss='categorical_crossentropy', metrics=['categorical_accuracy'])\n",
        "        return model"
      ],
      "execution_count": null,
      "outputs": []
    },
    {
      "cell_type": "code",
      "metadata": {
        "id": "4ShMDvmqSZeK"
      },
      "source": [
        "conv_3d7=ModelConv3D7()\n",
        "conv_3d7.initialize_path(project_folder)\n",
        "conv_3d7.initialize_image_properties(image_height=120,image_width=120)\n",
        "conv_3d7.initialize_hyperparams(frames_to_sample=16,batch_size=20,num_epochs=25)\n",
        "conv_3d7_model=conv_3d7.define_model(dense_neurons=64,dropout=0.25)\n",
        "conv_3d7_model.summary()"
      ],
      "execution_count": null,
      "outputs": []
    },
    {
      "cell_type": "code",
      "metadata": {
        "id": "cokO-P0_SZeK"
      },
      "source": [
        "print(\"Total Params:\", conv_3d7_model.count_params())\n",
        "history_model7=conv_3d7.train_model(conv_3d7_model,augment_data=True)"
      ],
      "execution_count": null,
      "outputs": []
    },
    {
      "cell_type": "code",
      "metadata": {
        "id": "NSNbCyCQSZeL"
      },
      "source": [
        "plot(history_model7)"
      ],
      "execution_count": null,
      "outputs": []
    },
    {
      "cell_type": "markdown",
      "metadata": {
        "id": "gEFfQZT0SZeL"
      },
      "source": [
        "###### For the above low memory foot print model the best validation accuracy of 77%"
      ]
    },
    {
      "cell_type": "markdown",
      "metadata": {
        "id": "zuHqvpdSSZeL"
      },
      "source": [
        "# Model 8 - reducing the number of parameters"
      ]
    },
    {
      "cell_type": "code",
      "metadata": {
        "collapsed": true,
        "id": "aK-cVRmMSZeL"
      },
      "source": [
        "class ModelConv3D8(ModelBuilder):\n",
        "    \n",
        "    def define_model(self,dense_neurons=64,dropout=0.25):\n",
        "\n",
        "        model = Sequential()\n",
        "        model.add(Conv3D(8, (3, 3, 3), padding='same',\n",
        "                 input_shape=(self.frames_to_sample,self.image_height,self.image_width,self.channels)))\n",
        "        model.add(Activation('relu'))\n",
        "        model.add(BatchNormalization())\n",
        "        model.add(MaxPooling3D(pool_size=(2, 2, 2)))\n",
        "\n",
        "        model.add(Conv3D(16, (3, 3, 3), padding='same'))\n",
        "        model.add(Activation('relu'))\n",
        "        model.add(BatchNormalization())\n",
        "        model.add(MaxPooling3D(pool_size=(2, 2, 2)))\n",
        "\n",
        "        model.add(Conv3D(32, (2, 2, 2), padding='same'))\n",
        "        model.add(Activation('relu'))\n",
        "        model.add(BatchNormalization())\n",
        "        model.add(MaxPooling3D(pool_size=(2, 2, 2)))\n",
        "\n",
        "        model.add(Conv3D(64, (2, 2, 2), padding='same'))\n",
        "        model.add(Activation('relu'))\n",
        "        model.add(BatchNormalization())\n",
        "        model.add(MaxPooling3D(pool_size=(2, 2, 2)))\n",
        "        \n",
        "        model.add(Flatten())\n",
        "        model.add(Dense(dense_neurons,activation='relu'))\n",
        "        model.add(BatchNormalization())\n",
        "        model.add(Dropout(dropout))\n",
        "\n",
        "        model.add(Dense(dense_neurons,activation='relu'))\n",
        "        model.add(BatchNormalization())\n",
        "        model.add(Dropout(dropout))\n",
        "\n",
        "        model.add(Dense(self.num_classes,activation='softmax'))\n",
        "\n",
        "        optimiser = optimizers.Adam(lr=0.0002)\n",
        "        model.compile(optimizer=optimiser, loss='categorical_crossentropy', metrics=['categorical_accuracy'])\n",
        "        return model"
      ],
      "execution_count": null,
      "outputs": []
    },
    {
      "cell_type": "code",
      "metadata": {
        "id": "jZ_uhapNSZeM"
      },
      "source": [
        "conv_3d8=ModelConv3D8()\n",
        "conv_3d8.initialize_path(project_folder)\n",
        "conv_3d8.initialize_image_properties(image_height=120,image_width=120)\n",
        "conv_3d8.initialize_hyperparams(frames_to_sample=16,batch_size=20,num_epochs=30)\n",
        "conv_3d8_model=conv_3d8.define_model(dense_neurons=64,dropout=0.25)\n",
        "conv_3d8_model.summary()"
      ],
      "execution_count": null,
      "outputs": []
    },
    {
      "cell_type": "code",
      "metadata": {
        "id": "9nCrf7aCSZeM"
      },
      "source": [
        "print(\"Total Params:\", conv_3d8_model.count_params())\n",
        "history_model8=conv_3d8.train_model(conv_3d8_model,augment_data=True)"
      ],
      "execution_count": null,
      "outputs": []
    },
    {
      "cell_type": "code",
      "metadata": {
        "id": "8ZOJabXySZeM",
        "colab": {
          "base_uri": "https://localhost:8080/",
          "height": 265
        },
        "outputId": "23e1ad9b-f3a6-4e12-dffa-1fc5854ae0b2"
      },
      "source": [
        "plot(history_model8)"
      ],
      "execution_count": null,
      "outputs": [
        {
          "output_type": "display_data",
          "data": {
            "image/png": "[encoded data removed]",
            "text/plain": [
              "<Figure size 1080x288 with 2 Axes>"
            ]
          },
          "metadata": {
            "tags": [],
            "needs_background": "light"
          }
        }
      ]
    },
    {
      "cell_type": "markdown",
      "metadata": {
        "collapsed": true,
        "id": "ALadSIkDSZeM"
      },
      "source": [
        "###### For the above low memory foot print model the best validation accuracy of 78%"
      ]
    },
    {
      "cell_type": "markdown",
      "metadata": {
        "id": "ujmADUAvSZeM"
      },
      "source": [
        "# Model 9 - CNN- LSTM Model"
      ]
    },
    {
      "cell_type": "code",
      "metadata": {
        "collapsed": true,
        "id": "wfBSLxRnSZeM"
      },
      "source": [
        "class RNNCNN1(ModelBuilder):\n",
        "    \n",
        "    def define_model(self,lstm_cells=64,dense_neurons=64,dropout=0.25):\n",
        "\n",
        "        model = Sequential()\n",
        "\n",
        "        model.add(TimeDistributed(Conv2D(16, (3, 3) , padding='same', activation='relu'),\n",
        "                                  input_shape=(self.frames_to_sample,self.image_height,self.image_width,self.channels)))\n",
        "        model.add(TimeDistributed(BatchNormalization()))\n",
        "        model.add(TimeDistributed(MaxPooling2D((2, 2))))\n",
        "        \n",
        "        model.add(TimeDistributed(Conv2D(32, (3, 3) , padding='same', activation='relu')))\n",
        "        model.add(TimeDistributed(BatchNormalization()))\n",
        "        model.add(TimeDistributed(MaxPooling2D((2, 2))))\n",
        "        \n",
        "        model.add(TimeDistributed(Conv2D(64, (3, 3) , padding='same', activation='relu')))\n",
        "        model.add(TimeDistributed(BatchNormalization()))\n",
        "        model.add(TimeDistributed(MaxPooling2D((2, 2))))\n",
        "        \n",
        "        model.add(TimeDistributed(Conv2D(128, (3, 3) , padding='same', activation='relu')))\n",
        "        model.add(TimeDistributed(BatchNormalization()))\n",
        "        model.add(TimeDistributed(MaxPooling2D((2, 2))))\n",
        "        \n",
        "        model.add(TimeDistributed(Conv2D(256, (3, 3) , padding='same', activation='relu')))\n",
        "        model.add(TimeDistributed(BatchNormalization()))\n",
        "        model.add(TimeDistributed(MaxPooling2D((2, 2))))\n",
        "        \n",
        "        #model.add(TimeDistributed(Conv2D(512, (2, 2) , padding='valid', activation='relu')))\n",
        "       # model.add(TimeDistributed(BatchNormalization()))\n",
        "       # model.add(TimeDistributed(MaxPooling2D((2, 2))))\n",
        "\n",
        "        model.add(TimeDistributed(Flatten()))\n",
        "\n",
        "\n",
        "        model.add(LSTM(lstm_cells))\n",
        "        model.add(Dropout(dropout))\n",
        "        \n",
        "        model.add(Dense(dense_neurons,activation='relu'))\n",
        "        model.add(Dropout(dropout))\n",
        "        \n",
        "        model.add(Dense(self.num_classes, activation='softmax'))\n",
        "        optimiser = optimizers.Adam()\n",
        "        model.compile(optimizer=optimiser, loss='categorical_crossentropy', metrics=['categorical_accuracy'])\n",
        "        return model"
      ],
      "execution_count": null,
      "outputs": []
    },
    {
      "cell_type": "code",
      "metadata": {
        "id": "lDD_ahHtSZeN"
      },
      "source": [
        "rnn_cnn1=RNNCNN1()\n",
        "rnn_cnn1.initialize_path(project_folder)\n",
        "rnn_cnn1.initialize_image_properties(image_height=120,image_width=120)\n",
        "rnn_cnn1.initialize_hyperparams(frames_to_sample=18,batch_size=20,num_epochs=20)\n",
        "rnn_cnn1_model=rnn_cnn1.define_model(lstm_cells=128,dense_neurons=128,dropout=0.25)\n",
        "rnn_cnn1_model.summary()"
      ],
      "execution_count": null,
      "outputs": []
    },
    {
      "cell_type": "code",
      "metadata": {
        "id": "VpjvWrOVSZeO"
      },
      "source": [
        "print(\"Total Params:\", rnn_cnn1_model.count_params())\n",
        "history_model9=rnn_cnn1.train_model(rnn_cnn1_model,augment_data=True)"
      ],
      "execution_count": null,
      "outputs": []
    },
    {
      "cell_type": "code",
      "metadata": {
        "id": "RLDx0HNfSZeO"
      },
      "source": [
        "plot(history_model9)"
      ],
      "execution_count": null,
      "outputs": []
    },
    {
      "cell_type": "markdown",
      "metadata": {
        "collapsed": true,
        "id": "DaXRdKkcSZeO"
      },
      "source": [
        "##### For CNN - LSTM model we get a best validation accuracy of 75%"
      ]
    },
    {
      "cell_type": "markdown",
      "metadata": {
        "id": "Up8SQU3wSZeO"
      },
      "source": [
        "### As we see more cases of overfitting, lets augment the data with slight rotation as well and run the same set of models again"
      ]
    },
    {
      "cell_type": "markdown",
      "metadata": {
        "id": "7A8cterPSZeO"
      },
      "source": [
        "# More Augmentation"
      ]
    },
    {
      "cell_type": "code",
      "metadata": {
        "collapsed": true,
        "id": "xIeLrhZeSZeO"
      },
      "source": [
        "class ModelBuilderMoreAugmentation(metaclass= abc.ABCMeta):\n",
        "    \n",
        "    def initialize_path(self,project_folder):\n",
        "        self.train_doc = np.random.permutation(open(project_folder + '/' + 'train.csv').readlines())\n",
        "        self.val_doc = np.random.permutation(open(project_folder + '/' + 'val.csv').readlines())\n",
        "        self.train_path = project_folder + '/' + 'train'\n",
        "        self.val_path =  project_folder + '/' + 'val'\n",
        "        self.num_train_sequences = len(self.train_doc)\n",
        "        self.num_val_sequences = len(self.val_doc)\n",
        "        \n",
        "    def initialize_image_properties(self,image_height=100,image_width=100):\n",
        "        self.image_height=image_height\n",
        "        self.image_width=image_width\n",
        "        self.channels=3\n",
        "        self.num_classes=5\n",
        "        self.total_frames=30\n",
        "          \n",
        "    def initialize_hyperparams(self,frames_to_sample=30,batch_size=20,num_epochs=20):\n",
        "        self.frames_to_sample=frames_to_sample\n",
        "        self.batch_size=batch_size\n",
        "        self.num_epochs=num_epochs\n",
        "        \n",
        "        \n",
        "    def generator(self,source_path, folder_list, augment=False):\n",
        "        img_idx = np.round(np.linspace(0,self.total_frames-1,self.frames_to_sample)).astype(int)\n",
        "        batch_size=self.batch_size\n",
        "        while True:\n",
        "            t = np.random.permutation(folder_list)\n",
        "            num_batches = len(t)//batch_size\n",
        "        \n",
        "            for batch in range(num_batches): \n",
        "                batch_data, batch_labels= self.one_batch_data(source_path,t,batch,batch_size,img_idx,augment)\n",
        "                yield batch_data, batch_labels \n",
        "\n",
        "            remaining_seq=len(t)%batch_size\n",
        "        \n",
        "            if (remaining_seq != 0):\n",
        "                batch_data, batch_labels= self.one_batch_data(source_path,t,num_batches,batch_size,img_idx,augment,remaining_seq)\n",
        "                yield batch_data, batch_labels \n",
        "    \n",
        "    \n",
        "    def one_batch_data(self,source_path,t,batch,batch_size,img_idx,augment,remaining_seq=0):\n",
        "    \n",
        "        seq_len = remaining_seq if remaining_seq else batch_size\n",
        "    \n",
        "        batch_data = np.zeros((seq_len,len(img_idx),self.image_height,self.image_width,self.channels)) \n",
        "        batch_labels = np.zeros((seq_len,self.num_classes)) \n",
        "    \n",
        "        if (augment): batch_data_aug = np.zeros((seq_len,len(img_idx),self.image_height,self.image_width,self.channels))\n",
        "\n",
        "        \n",
        "        for folder in range(seq_len): \n",
        "            imgs = os.listdir(source_path+'/'+ t[folder + (batch*batch_size)].split(';')[0]) \n",
        "            for idx,item in enumerate(img_idx): \n",
        "                image = imread(source_path+'/'+ t[folder + (batch*batch_size)].strip().split(';')[0]+'/'+imgs[item]).astype(np.float32)\n",
        "                image_resized=imresize(image,(self.image_height,self.image_width,3))\n",
        "            \n",
        "\n",
        "                batch_data[folder,idx,:,:,0] = (image_resized[:,:,0])/255\n",
        "                batch_data[folder,idx,:,:,1] = (image_resized[:,:,1])/255\n",
        "                batch_data[folder,idx,:,:,2] = (image_resized[:,:,2])/255\n",
        "            \n",
        "                if (augment):\n",
        "                    shifted = cv2.warpAffine(image, \n",
        "                                             np.float32([[1, 0, np.random.randint(-30,30)],[0, 1, np.random.randint(-30,30)]]), \n",
        "                                            (image.shape[1], image.shape[0]))\n",
        "                    \n",
        "                    gray = cv2.cvtColor(shifted,cv2.COLOR_BGR2GRAY)\n",
        "\n",
        "                    x0, y0 = np.argwhere(gray > 0).min(axis=0)\n",
        "                    x1, y1 = np.argwhere(gray > 0).max(axis=0) \n",
        "                    \n",
        "                    cropped=shifted[x0:x1,y0:y1,:]\n",
        "                    \n",
        "                    image_resized=imresize(cropped,(self.image_height,self.image_width,3))\n",
        "                    \n",
        "                    M = cv2.getRotationMatrix2D((self.image_width//2,self.image_height//2),\n",
        "                                                np.random.randint(-10,10), 1.0)\n",
        "                    rotated = cv2.warpAffine(image_resized, M, (self.image_width, self.image_height))\n",
        "                    \n",
        "                    #shifted = cv2.warpAffine(image_resized, \n",
        "                    #                        np.float32([[1, 0, np.random.randint(-3,3)],[0, 1, np.random.randint(-3,3)]]), \n",
        "                    #                        (image_resized.shape[1], image_resized.shape[0]))\n",
        "            \n",
        "                    batch_data_aug[folder,idx,:,:,0] = (rotated[:,:,0])/255\n",
        "                    batch_data_aug[folder,idx,:,:,1] = (rotated[:,:,1])/255\n",
        "                    batch_data_aug[folder,idx,:,:,2] = (rotated[:,:,2])/255\n",
        "                \n",
        "            \n",
        "            batch_labels[folder, int(t[folder + (batch*batch_size)].strip().split(';')[2])] = 1\n",
        "            \n",
        "    \n",
        "        if (augment):\n",
        "            batch_data=np.concatenate([batch_data,batch_data_aug])\n",
        "            batch_labels=np.concatenate([batch_labels,batch_labels])\n",
        "\n",
        "        \n",
        "        return(batch_data,batch_labels)\n",
        "    \n",
        "    \n",
        "    def train_model(self, model, augment_data=False):\n",
        "        train_generator = self.generator(self.train_path, self.train_doc,augment=augment_data)\n",
        "        val_generator = self.generator(self.val_path, self.val_doc)\n",
        "\n",
        "        model_name = 'models/' + 'model_init' + '_' + str(datetime.datetime.now()).replace(' ','').replace(':','_') + '/'\n",
        "    \n",
        "        if not os.path.exists(model_name):\n",
        "            os.mkdir(model_name)\n",
        "        \n",
        "        filepath = model_name + 'model-{epoch:05d}-{loss:.5f}-{categorical_accuracy:.5f}-{val_loss:.5f}-{val_categorical_accuracy:.5f}.h5'\n",
        "\n",
        "        checkpoint = ModelCheckpoint(filepath, monitor='val_loss', verbose=1, save_best_only=False, save_weights_only=False, mode='auto', period=1)\n",
        "        LR = ReduceLROnPlateau(monitor='val_loss', factor=0.2, verbose=1, patience=4)\n",
        "        callbacks_list = [checkpoint, LR]\n",
        "\n",
        "        if (self.num_train_sequences%self.batch_size) == 0:\n",
        "            steps_per_epoch = int(self.num_train_sequences/self.batch_size)\n",
        "        else:\n",
        "            steps_per_epoch = (self.num_train_sequences//self.batch_size) + 1\n",
        "\n",
        "        if (self.num_val_sequences%self.batch_size) == 0:\n",
        "            validation_steps = int(self.num_val_sequences/self.batch_size)\n",
        "        else:\n",
        "            validation_steps = (self.num_val_sequences//self.batch_size) + 1\n",
        "    \n",
        "        history=model.fit_generator(train_generator, steps_per_epoch=steps_per_epoch, epochs=self.num_epochs, verbose=1, \n",
        "                            callbacks=callbacks_list, validation_data=val_generator, \n",
        "                            validation_steps=validation_steps, class_weight=None, workers=1, initial_epoch=0)\n",
        "        return history\n",
        "\n",
        "        \n",
        "    @abc.abstractmethod\n",
        "    def define_model(self):\n",
        "        pass"
      ],
      "execution_count": null,
      "outputs": []
    },
    {
      "cell_type": "code",
      "metadata": {
        "collapsed": true,
        "id": "nsQ3-6nfSZeP"
      },
      "source": [
        "#class Test(ModelBuilderMoreAugmentation):\n",
        "#    def define_model(self):\n",
        "#        pass\n",
        "\n",
        "#test_generator=Test()\n",
        "#test_generator.initialize_path(project_folder)\n",
        "#test_generator.initialize_image_properties(image_height=160,image_width=160)\n",
        "#test_generator.initialize_hyperparams(frames_to_sample=30,batch_size=3,num_epochs=1)\n",
        "\n",
        "#g=test_generator.generator(test_generator.val_path,test_generator.val_doc,augment=True)\n",
        "#batch_data, batch_labels=next(g)\n",
        "#fig, axes = plt.subplots(nrows=1, ncols=2)\n",
        "#axes[0].imshow(batch_data[0,29,:,:,:])   \n",
        "#axes[1].imshow(batch_data[3,29,:,:,:])   "
      ],
      "execution_count": null,
      "outputs": []
    },
    {
      "cell_type": "markdown",
      "metadata": {
        "id": "4Og5qCMRSZeP"
      },
      "source": [
        "# Model 10 - (3,3,3) Filter & 160x160 Image resolution - similar to Model 2"
      ]
    },
    {
      "cell_type": "code",
      "metadata": {
        "collapsed": true,
        "id": "jUY59hZ5SZeP"
      },
      "source": [
        "class ModelConv3D10(ModelBuilderMoreAugmentation):\n",
        "    \n",
        "    def define_model(self,filtersize=(3,3,3),dense_neurons=64,dropout=0.25):\n",
        "\n",
        "        model = Sequential()\n",
        "        model.add(Conv3D(16, filtersize, padding='same',\n",
        "                 input_shape=(self.frames_to_sample,self.image_height,self.image_width,self.channels)))\n",
        "        model.add(Activation('relu'))\n",
        "        model.add(BatchNormalization())\n",
        "        model.add(MaxPooling3D(pool_size=(2, 2, 2)))\n",
        "\n",
        "        model.add(Conv3D(32, filtersize, padding='same'))\n",
        "        model.add(Activation('relu'))\n",
        "        model.add(BatchNormalization())\n",
        "        model.add(MaxPooling3D(pool_size=(2, 2, 2)))\n",
        "\n",
        "        model.add(Conv3D(64, filtersize, padding='same'))\n",
        "        model.add(Activation('relu'))\n",
        "        model.add(BatchNormalization())\n",
        "        model.add(MaxPooling3D(pool_size=(2, 2, 2)))\n",
        "\n",
        "        model.add(Conv3D(128, filtersize, padding='same'))\n",
        "        model.add(Activation('relu'))\n",
        "        model.add(BatchNormalization())\n",
        "        model.add(MaxPooling3D(pool_size=(2, 2, 2)))\n",
        "\n",
        "        model.add(Flatten())\n",
        "        model.add(Dense(dense_neurons,activation='relu'))\n",
        "        model.add(BatchNormalization())\n",
        "        model.add(Dropout(dropout))\n",
        "\n",
        "        model.add(Dense(dense_neurons,activation='relu'))\n",
        "        model.add(BatchNormalization())\n",
        "        model.add(Dropout(dropout))\n",
        "\n",
        "\n",
        "        model.add(Dense(self.num_classes,activation='softmax'))\n",
        "\n",
        "        optimiser = optimizers.Adam(lr=0.0002)\n",
        "        model.compile(optimizer=optimiser, loss='categorical_crossentropy', metrics=['categorical_accuracy'])\n",
        "        return model"
      ],
      "execution_count": null,
      "outputs": []
    },
    {
      "cell_type": "code",
      "metadata": {
        "id": "Ms8ZwIYmSZeR"
      },
      "source": [
        "conv_3d10=ModelConv3D10()\n",
        "conv_3d10.initialize_path(project_folder)\n",
        "conv_3d10.initialize_image_properties(image_height=160,image_width=160)\n",
        "conv_3d10.initialize_hyperparams(frames_to_sample=20,batch_size=20,num_epochs=30)\n",
        "conv_3d10_model=conv_3d10.define_model(dense_neurons=256,dropout=0.5)\n",
        "conv_3d10_model.summary()"
      ],
      "execution_count": null,
      "outputs": []
    },
    {
      "cell_type": "code",
      "metadata": {
        "id": "XALE3wDZSZeR"
      },
      "source": [
        "print(\"Total Params:\", conv_3d10_model.count_params())\n",
        "history_model10=conv_3d10.train_model(conv_3d10_model,augment_data=True)"
      ],
      "execution_count": null,
      "outputs": []
    },
    {
      "cell_type": "code",
      "metadata": {
        "id": "lfe2WqwESZeS"
      },
      "source": [
        "plot(history_model10)"
      ],
      "execution_count": null,
      "outputs": []
    },
    {
      "cell_type": "markdown",
      "metadata": {
        "id": "cE2dp7SRSZeS"
      },
      "source": [
        "# Model 11 - (2,2,2) Filter  & 120x120 Image resolution - similar to Model 3"
      ]
    },
    {
      "cell_type": "code",
      "metadata": {
        "collapsed": true,
        "id": "DzhldBrASZeS"
      },
      "source": [
        "class ModelConv3D11(ModelBuilderMoreAugmentation):\n",
        "    \n",
        "    def define_model(self,filtersize=(3,3,3),dense_neurons=64,dropout=0.25):\n",
        "\n",
        "        model = Sequential()\n",
        "        model.add(Conv3D(16, filtersize, padding='same',\n",
        "                 input_shape=(self.frames_to_sample,self.image_height,self.image_width,self.channels)))\n",
        "        model.add(Activation('relu'))\n",
        "        model.add(BatchNormalization())\n",
        "        model.add(MaxPooling3D(pool_size=(2, 2, 2)))\n",
        "\n",
        "        model.add(Conv3D(32, filtersize, padding='same'))\n",
        "        model.add(Activation('relu'))\n",
        "        model.add(BatchNormalization())\n",
        "        model.add(MaxPooling3D(pool_size=(2, 2, 2)))\n",
        "\n",
        "        model.add(Conv3D(64, filtersize, padding='same'))\n",
        "        model.add(Activation('relu'))\n",
        "        model.add(BatchNormalization())\n",
        "        model.add(MaxPooling3D(pool_size=(2, 2, 2)))\n",
        "\n",
        "        model.add(Conv3D(128, filtersize, padding='same'))\n",
        "        model.add(Activation('relu'))\n",
        "        model.add(BatchNormalization())\n",
        "        model.add(MaxPooling3D(pool_size=(2, 2, 2)))\n",
        "\n",
        "        model.add(Flatten())\n",
        "        model.add(Dense(dense_neurons,activation='relu'))\n",
        "        model.add(BatchNormalization())\n",
        "        model.add(Dropout(dropout))\n",
        "\n",
        "        model.add(Dense(dense_neurons,activation='relu'))\n",
        "        model.add(BatchNormalization())\n",
        "        model.add(Dropout(dropout))\n",
        "\n",
        "\n",
        "        model.add(Dense(self.num_classes,activation='softmax'))\n",
        "\n",
        "        optimiser = optimizers.Adam(lr=0.0002)\n",
        "        model.compile(optimizer=optimiser, loss='categorical_crossentropy', metrics=['categorical_accuracy'])\n",
        "        return model"
      ],
      "execution_count": null,
      "outputs": []
    },
    {
      "cell_type": "code",
      "metadata": {
        "id": "BIN5wHGhSZeT"
      },
      "source": [
        "conv_3d11=ModelConv3D11()\n",
        "conv_3d11.initialize_path(project_folder)\n",
        "conv_3d11.initialize_image_properties(image_height=120,image_width=120)\n",
        "conv_3d11.initialize_hyperparams(frames_to_sample=16,batch_size=30,num_epochs=30)\n",
        "conv_3d11_model=conv_3d11.define_model(filtersize=(2,2,2),dense_neurons=256,dropout=0.5)\n",
        "conv_3d11_model.summary()"
      ],
      "execution_count": null,
      "outputs": []
    },
    {
      "cell_type": "code",
      "metadata": {
        "id": "_kQW_XPdSZeT"
      },
      "source": [
        "print(\"Total Params:\", conv_3d11_model.count_params())\n",
        "history_model11=conv_3d11.train_model(conv_3d11_model,augment_data=True)"
      ],
      "execution_count": null,
      "outputs": []
    },
    {
      "cell_type": "code",
      "metadata": {
        "id": "SP-0xvdpSZeT"
      },
      "source": [
        "plot(history_model11)"
      ],
      "execution_count": null,
      "outputs": []
    },
    {
      "cell_type": "markdown",
      "metadata": {
        "id": "J8yNJBBdSZeT"
      },
      "source": [
        "# Model 12 - Adding more layers - Similar to model 4"
      ]
    },
    {
      "cell_type": "code",
      "metadata": {
        "collapsed": true,
        "id": "xG_qaUn6SZeT"
      },
      "source": [
        "class ModelConv3D12(ModelBuilderMoreAugmentation):\n",
        "    \n",
        "    def define_model(self,filtersize=(3,3,3),dense_neurons=64,dropout=0.25):\n",
        "\n",
        "        model = Sequential()\n",
        "        model.add(Conv3D(16, filtersize, padding='same',\n",
        "                 input_shape=(self.frames_to_sample,self.image_height,self.image_width,self.channels)))\n",
        "        model.add(Activation('relu'))\n",
        "        model.add(BatchNormalization())\n",
        "        \n",
        "        model.add(Conv3D(16, filtersize, padding='same',\n",
        "                 input_shape=(self.frames_to_sample,self.image_height,self.image_width,self.channels)))\n",
        "        model.add(Activation('relu'))\n",
        "        model.add(BatchNormalization())\n",
        "        \n",
        "        model.add(MaxPooling3D(pool_size=(2, 2, 2)))\n",
        "\n",
        "        model.add(Conv3D(32, filtersize, padding='same'))\n",
        "        model.add(Activation('relu'))\n",
        "        model.add(BatchNormalization())\n",
        "        \n",
        "        model.add(Conv3D(32, filtersize, padding='same'))\n",
        "        model.add(Activation('relu'))\n",
        "        model.add(BatchNormalization())\n",
        "        \n",
        "        model.add(MaxPooling3D(pool_size=(2, 2, 2)))\n",
        "\n",
        "        model.add(Conv3D(64, filtersize, padding='same'))\n",
        "        model.add(Activation('relu'))\n",
        "        model.add(BatchNormalization())\n",
        "        \n",
        "        model.add(Conv3D(64, filtersize, padding='same'))\n",
        "        model.add(Activation('relu'))\n",
        "        model.add(BatchNormalization())\n",
        "        \n",
        "        model.add(MaxPooling3D(pool_size=(2, 2, 2)))\n",
        "\n",
        "        model.add(Conv3D(128, filtersize, padding='same'))\n",
        "        model.add(Activation('relu'))\n",
        "        model.add(BatchNormalization())\n",
        "        \n",
        "        model.add(Conv3D(128, filtersize, padding='same'))\n",
        "        model.add(Activation('relu'))\n",
        "        model.add(BatchNormalization())\n",
        "        \n",
        "        model.add(MaxPooling3D(pool_size=(2, 2, 2)))\n",
        "        \n",
        "\n",
        "        model.add(Flatten())\n",
        "        model.add(Dense(dense_neurons,activation='relu'))\n",
        "        model.add(BatchNormalization())\n",
        "        model.add(Dropout(dropout))\n",
        "\n",
        "        model.add(Dense(dense_neurons,activation='relu'))\n",
        "        model.add(BatchNormalization())\n",
        "        model.add(Dropout(dropout))\n",
        "\n",
        "\n",
        "        model.add(Dense(self.num_classes,activation='softmax'))\n",
        "\n",
        "        optimiser = optimizers.Adam(lr=0.0002)\n",
        "        model.compile(optimizer=optimiser, loss='categorical_crossentropy', metrics=['categorical_accuracy'])\n",
        "        return model"
      ],
      "execution_count": null,
      "outputs": []
    },
    {
      "cell_type": "code",
      "metadata": {
        "id": "Adqj1jvuSZeU"
      },
      "source": [
        "conv_3d12=ModelConv3D12()\n",
        "conv_3d12.initialize_path(project_folder)\n",
        "conv_3d12.initialize_image_properties(image_height=120,image_width=120)\n",
        "conv_3d12.initialize_hyperparams(frames_to_sample=16,batch_size=20,num_epochs=30)\n",
        "conv_3d12_model=conv_3d12.define_model(filtersize=(3,3,3),dense_neurons=256,dropout=0.5)\n",
        "conv_3d12_model.summary()"
      ],
      "execution_count": null,
      "outputs": []
    },
    {
      "cell_type": "code",
      "metadata": {
        "id": "hF9Iy81BSZeV"
      },
      "source": [
        "print(\"Total Params:\", conv_3d12_model.count_params())\n",
        "history_model12=conv_3d12.train_model(conv_3d12_model,augment_data=True)"
      ],
      "execution_count": null,
      "outputs": []
    },
    {
      "cell_type": "code",
      "metadata": {
        "id": "Q1l9V43cSZeV"
      },
      "source": [
        "plot(history_model12)"
      ],
      "execution_count": null,
      "outputs": []
    },
    {
      "cell_type": "markdown",
      "metadata": {
        "id": "bvVAbFC8SZeV"
      },
      "source": [
        "# Model 13 - Adding dropouts - Similar to Model 5"
      ]
    },
    {
      "cell_type": "code",
      "metadata": {
        "collapsed": true,
        "id": "5_tHepJRSZeV"
      },
      "source": [
        "class ModelConv3D13(ModelBuilderMoreAugmentation):\n",
        "    \n",
        "    def define_model(self,filtersize=(3,3,3),dense_neurons=64,dropout=0.25):\n",
        "\n",
        "        model = Sequential()\n",
        "        model.add(Conv3D(16, filtersize, padding='same',\n",
        "                 input_shape=(self.frames_to_sample,self.image_height,self.image_width,self.channels)))\n",
        "        model.add(Activation('relu'))\n",
        "        model.add(BatchNormalization())\n",
        "        \n",
        "        model.add(Conv3D(16, filtersize, padding='same',\n",
        "                 input_shape=(self.frames_to_sample,self.image_height,self.image_width,self.channels)))\n",
        "        model.add(Activation('relu'))\n",
        "        model.add(BatchNormalization())\n",
        "        \n",
        "        model.add(MaxPooling3D(pool_size=(2, 2, 2)))\n",
        "        model.add(Dropout(dropout))\n",
        "\n",
        "        model.add(Conv3D(32, filtersize, padding='same'))\n",
        "        model.add(Activation('relu'))\n",
        "        model.add(BatchNormalization())\n",
        "        \n",
        "        model.add(Conv3D(32, filtersize, padding='same'))\n",
        "        model.add(Activation('relu'))\n",
        "        model.add(BatchNormalization())\n",
        "        \n",
        "        model.add(MaxPooling3D(pool_size=(2, 2, 2)))\n",
        "        model.add(Dropout(dropout))\n",
        "\n",
        "        model.add(Conv3D(64, filtersize, padding='same'))\n",
        "        model.add(Activation('relu'))\n",
        "        model.add(BatchNormalization())\n",
        "        \n",
        "        model.add(Conv3D(64, filtersize, padding='same'))\n",
        "        model.add(Activation('relu'))\n",
        "        model.add(BatchNormalization())\n",
        "        \n",
        "        model.add(MaxPooling3D(pool_size=(2, 2, 2)))\n",
        "        model.add(Dropout(dropout))\n",
        "\n",
        "        model.add(Conv3D(128, filtersize, padding='same'))\n",
        "        model.add(Activation('relu'))\n",
        "        model.add(BatchNormalization())\n",
        "        \n",
        "        model.add(Conv3D(128, filtersize, padding='same'))\n",
        "        model.add(Activation('relu'))\n",
        "        model.add(BatchNormalization())\n",
        "        \n",
        "        model.add(MaxPooling3D(pool_size=(2, 2, 2)))\n",
        "        model.add(Dropout(dropout))\n",
        "        \n",
        "        model.add(Flatten())\n",
        "        model.add(Dense(dense_neurons,activation='relu'))\n",
        "        model.add(BatchNormalization())\n",
        "        model.add(Dropout(dropout))\n",
        "\n",
        "        model.add(Dense(dense_neurons,activation='relu'))\n",
        "        model.add(BatchNormalization())\n",
        "        model.add(Dropout(dropout))\n",
        "\n",
        "\n",
        "        model.add(Dense(self.num_classes,activation='softmax'))\n",
        "\n",
        "        optimiser = optimizers.Adam(lr=0.0002)\n",
        "        model.compile(optimizer=optimiser, loss='categorical_crossentropy', metrics=['categorical_accuracy'])\n",
        "        return model"
      ],
      "execution_count": null,
      "outputs": []
    },
    {
      "cell_type": "code",
      "metadata": {
        "id": "cUH29IuOSZeV"
      },
      "source": [
        "conv_3d13=ModelConv3D13()\n",
        "conv_3d13.initialize_path(project_folder)\n",
        "conv_3d13.initialize_image_properties(image_height=120,image_width=120)\n",
        "conv_3d13.initialize_hyperparams(frames_to_sample=16,batch_size=20,num_epochs=25)\n",
        "conv_3d13_model=conv_3d13.define_model(filtersize=(3,3,3),dense_neurons=256,dropout=0.25)\n",
        "conv_3d13_model.summary()"
      ],
      "execution_count": null,
      "outputs": []
    },
    {
      "cell_type": "code",
      "metadata": {
        "id": "X4nuOxnHSZeV"
      },
      "source": [
        "print(\"Total Params:\", conv_3d13_model.count_params())\n",
        "history_model13=conv_3d13.train_model(conv_3d13_model,augment_data=True)"
      ],
      "execution_count": null,
      "outputs": []
    },
    {
      "cell_type": "code",
      "metadata": {
        "id": "6GN3tY0NSZeW"
      },
      "source": [
        "plot(history_model13)"
      ],
      "execution_count": null,
      "outputs": []
    },
    {
      "cell_type": "markdown",
      "metadata": {
        "id": "iu_HnfJcSZeW"
      },
      "source": [
        "# Model 14 - reducing network parameters - Similar to Model 6"
      ]
    },
    {
      "cell_type": "code",
      "metadata": {
        "collapsed": true,
        "id": "HKWjd_ULSZeX"
      },
      "source": [
        "class ModelConv3D14(ModelBuilderMoreAugmentation):\n",
        "    \n",
        "    def define_model(self,dense_neurons=64,dropout=0.25):\n",
        "\n",
        "        model = Sequential()\n",
        "        model.add(Conv3D(16, (3, 3, 3), padding='same',\n",
        "                 input_shape=(self.frames_to_sample,self.image_height,self.image_width,self.channels)))\n",
        "        model.add(Activation('relu'))\n",
        "        model.add(BatchNormalization())\n",
        "        model.add(MaxPooling3D(pool_size=(2, 2, 2)))\n",
        "\n",
        "        model.add(Conv3D(32, (2, 2, 2), padding='same'))\n",
        "        model.add(Activation('relu'))\n",
        "        model.add(BatchNormalization())\n",
        "        model.add(MaxPooling3D(pool_size=(2, 2, 2)))\n",
        "\n",
        "        model.add(Conv3D(64, (2, 2, 2), padding='same'))\n",
        "        model.add(Activation('relu'))\n",
        "        model.add(BatchNormalization())\n",
        "        model.add(MaxPooling3D(pool_size=(2, 2, 2)))\n",
        "\n",
        "        model.add(Conv3D(128, (2, 2, 2), padding='same'))\n",
        "        model.add(Activation('relu'))\n",
        "        model.add(BatchNormalization())\n",
        "        model.add(MaxPooling3D(pool_size=(2, 2, 2)))\n",
        "        \n",
        "        model.add(Flatten())\n",
        "        model.add(Dense(dense_neurons,activation='relu'))\n",
        "        model.add(BatchNormalization())\n",
        "        model.add(Dropout(dropout))\n",
        "\n",
        "        model.add(Dense(dense_neurons,activation='relu'))\n",
        "        model.add(BatchNormalization())\n",
        "        model.add(Dropout(dropout))\n",
        "\n",
        "        model.add(Dense(self.num_classes,activation='softmax'))\n",
        "\n",
        "        optimiser = optimizers.Adam(lr=0.0002)\n",
        "        model.compile(optimizer=optimiser, loss='categorical_crossentropy', metrics=['categorical_accuracy'])\n",
        "        return model"
      ],
      "execution_count": null,
      "outputs": []
    },
    {
      "cell_type": "code",
      "metadata": {
        "id": "C7KI_jUaSZeX"
      },
      "source": [
        "conv_3d14=ModelConv3D14()\n",
        "conv_3d14.initialize_path(project_folder)\n",
        "conv_3d14.initialize_image_properties(image_height=100,image_width=100)\n",
        "conv_3d14.initialize_hyperparams(frames_to_sample=16,batch_size=20,num_epochs=30)\n",
        "conv_3d14_model=conv_3d14.define_model(dense_neurons=128,dropout=0.25)\n",
        "conv_3d14_model.summary()"
      ],
      "execution_count": null,
      "outputs": []
    },
    {
      "cell_type": "code",
      "metadata": {
        "id": "IkjeN4JHSZeX"
      },
      "source": [
        "print(\"Total Params:\", conv_3d14_model.count_params())\n",
        "history_model14=conv_3d14.train_model(conv_3d14_model,augment_data=True)"
      ],
      "execution_count": null,
      "outputs": []
    },
    {
      "cell_type": "code",
      "metadata": {
        "id": "UJiKyDXrSZeY"
      },
      "source": [
        "plot(history_model14)"
      ],
      "execution_count": null,
      "outputs": []
    },
    {
      "cell_type": "markdown",
      "metadata": {
        "id": "5GVUWde0SZeY"
      },
      "source": [
        "# Model 15 - reducing network parameters - Similar to model 7"
      ]
    },
    {
      "cell_type": "code",
      "metadata": {
        "collapsed": true,
        "id": "Uy7By3_9SZeY"
      },
      "source": [
        "class ModelConv3D15(ModelBuilderMoreAugmentation):\n",
        "    \n",
        "    def define_model(self,dense_neurons=64,dropout=0.25):\n",
        "\n",
        "        model = Sequential()\n",
        "        model.add(Conv3D(16, (3, 3, 3), padding='same',\n",
        "                 input_shape=(self.frames_to_sample,self.image_height,self.image_width,self.channels)))\n",
        "        model.add(Activation('relu'))\n",
        "        model.add(BatchNormalization())\n",
        "        model.add(MaxPooling3D(pool_size=(2, 2, 2)))\n",
        "\n",
        "        model.add(Conv3D(32, (3, 3, 3), padding='same'))\n",
        "        model.add(Activation('relu'))\n",
        "        model.add(BatchNormalization())\n",
        "        model.add(MaxPooling3D(pool_size=(2, 2, 2)))\n",
        "\n",
        "        model.add(Conv3D(64, (2, 2, 2), padding='same'))\n",
        "        model.add(Activation('relu'))\n",
        "        model.add(BatchNormalization())\n",
        "        model.add(MaxPooling3D(pool_size=(2, 2, 2)))\n",
        "\n",
        "        model.add(Conv3D(128, (2, 2, 2), padding='same'))\n",
        "        model.add(Activation('relu'))\n",
        "        model.add(BatchNormalization())\n",
        "        model.add(MaxPooling3D(pool_size=(2, 2, 2)))\n",
        "        \n",
        "        model.add(Flatten())\n",
        "        model.add(Dense(dense_neurons,activation='relu'))\n",
        "        model.add(BatchNormalization())\n",
        "        model.add(Dropout(dropout))\n",
        "\n",
        "        model.add(Dense(dense_neurons,activation='relu'))\n",
        "        model.add(BatchNormalization())\n",
        "        model.add(Dropout(dropout))\n",
        "\n",
        "        model.add(Dense(self.num_classes,activation='softmax'))\n",
        "\n",
        "        optimiser = optimizers.Adam(lr=0.0002)\n",
        "        model.compile(optimizer=optimiser, loss='categorical_crossentropy', metrics=['categorical_accuracy'])\n",
        "        return model"
      ],
      "execution_count": null,
      "outputs": []
    },
    {
      "cell_type": "code",
      "metadata": {
        "id": "A40Uk34NSZeY"
      },
      "source": [
        "conv_3d15=ModelConv3D15()\n",
        "conv_3d15.initialize_path(project_folder)\n",
        "conv_3d15.initialize_image_properties(image_height=120,image_width=120)\n",
        "conv_3d15.initialize_hyperparams(frames_to_sample=16,batch_size=20,num_epochs=25)\n",
        "conv_3d15_model=conv_3d15.define_model(dense_neurons=64,dropout=0.25)\n",
        "conv_3d15_model.summary()"
      ],
      "execution_count": null,
      "outputs": []
    },
    {
      "cell_type": "code",
      "metadata": {
        "id": "t7XGVHYYSZeZ"
      },
      "source": [
        "print(\"Total Params:\", conv_3d15_model.count_params())\n",
        "history_model15=conv_3d15.train_model(conv_3d15_model,augment_data=True)"
      ],
      "execution_count": null,
      "outputs": []
    },
    {
      "cell_type": "code",
      "metadata": {
        "id": "7JBs7QONSZeZ"
      },
      "source": [
        "plot(history_model15)"
      ],
      "execution_count": null,
      "outputs": []
    },
    {
      "cell_type": "markdown",
      "metadata": {
        "id": "-qvSipo2SZea"
      },
      "source": [
        "# Model 16 - reducing network parameters - Similar to Model 8"
      ]
    },
    {
      "cell_type": "code",
      "metadata": {
        "collapsed": true,
        "id": "lwlwP2hfSZea"
      },
      "source": [
        "class ModelConv3D16(ModelBuilderMoreAugmentation):\n",
        "    \n",
        "    def define_model(self,dense_neurons=64,dropout=0.25):\n",
        "\n",
        "        model = Sequential()\n",
        "        model.add(Conv3D(8, (3, 3, 3), padding='same',\n",
        "                 input_shape=(self.frames_to_sample,self.image_height,self.image_width,self.channels)))\n",
        "        model.add(Activation('relu'))\n",
        "        model.add(BatchNormalization())\n",
        "        model.add(MaxPooling3D(pool_size=(2, 2, 2)))\n",
        "\n",
        "        model.add(Conv3D(16, (3, 3, 3), padding='same'))\n",
        "        model.add(Activation('relu'))\n",
        "        model.add(BatchNormalization())\n",
        "        model.add(MaxPooling3D(pool_size=(2, 2, 2)))\n",
        "\n",
        "        model.add(Conv3D(32, (2, 2, 2), padding='same'))\n",
        "        model.add(Activation('relu'))\n",
        "        model.add(BatchNormalization())\n",
        "        model.add(MaxPooling3D(pool_size=(2, 2, 2)))\n",
        "\n",
        "        model.add(Conv3D(64, (2, 2, 2), padding='same'))\n",
        "        model.add(Activation('relu'))\n",
        "        model.add(BatchNormalization())\n",
        "        model.add(MaxPooling3D(pool_size=(2, 2, 2)))\n",
        "        \n",
        "        model.add(Flatten())\n",
        "        model.add(Dense(dense_neurons,activation='relu'))\n",
        "        model.add(BatchNormalization())\n",
        "        model.add(Dropout(dropout))\n",
        "\n",
        "        model.add(Dense(dense_neurons,activation='relu'))\n",
        "        model.add(BatchNormalization())\n",
        "        model.add(Dropout(dropout))\n",
        "\n",
        "        model.add(Dense(self.num_classes,activation='softmax'))\n",
        "\n",
        "        optimiser = optimizers.Adam(lr=0.0002)\n",
        "        model.compile(optimizer=optimiser, loss='categorical_crossentropy', metrics=['categorical_accuracy'])\n",
        "        return model"
      ],
      "execution_count": null,
      "outputs": []
    },
    {
      "cell_type": "code",
      "metadata": {
        "id": "xx1B5zhSSZea",
        "colab": {
          "base_uri": "https://localhost:8080/"
        },
        "outputId": "5d2df9da-8c91-4ed0-e2c3-eb97dc8c2256"
      },
      "source": [
        "conv_3d16=ModelConv3D16()\n",
        "conv_3d16.initialize_path(project_folder)\n",
        "conv_3d16.initialize_image_properties(image_height=120,image_width=120)\n",
        "conv_3d16.initialize_hyperparams(frames_to_sample=16,batch_size=20,num_epochs=30)\n",
        "conv_3d16_model=conv_3d16.define_model(dense_neurons=64,dropout=0.25)\n",
        "conv_3d16_model.summary()"
      ],
      "execution_count": null,
      "outputs": [
        {
          "output_type": "stream",
          "text": [
            "Model: \"sequential_2\"\n",
            "_________________________________________________________________\n",
            "Layer (type)                 Output Shape              Param #   \n",
            "=================================================================\n",
            "conv3d_8 (Conv3D)            (None, 16, 120, 120, 8)   656       \n",
            "_________________________________________________________________\n",
            "activation_8 (Activation)    (None, 16, 120, 120, 8)   0         \n",
            "_________________________________________________________________\n",
            "batch_normalization_12 (Batc (None, 16, 120, 120, 8)   32        \n",
            "_________________________________________________________________\n",
            "max_pooling3d_8 (MaxPooling3 (None, 8, 60, 60, 8)      0         \n",
            "_________________________________________________________________\n",
            "conv3d_9 (Conv3D)            (None, 8, 60, 60, 16)     3472      \n",
            "_________________________________________________________________\n",
            "activation_9 (Activation)    (None, 8, 60, 60, 16)     0         \n",
            "_________________________________________________________________\n",
            "batch_normalization_13 (Batc (None, 8, 60, 60, 16)     64        \n",
            "_________________________________________________________________\n",
            "max_pooling3d_9 (MaxPooling3 (None, 4, 30, 30, 16)     0         \n",
            "_________________________________________________________________\n",
            "conv3d_10 (Conv3D)           (None, 4, 30, 30, 32)     4128      \n",
            "_________________________________________________________________\n",
            "activation_10 (Activation)   (None, 4, 30, 30, 32)     0         \n",
            "_________________________________________________________________\n",
            "batch_normalization_14 (Batc (None, 4, 30, 30, 32)     128       \n",
            "_________________________________________________________________\n",
            "max_pooling3d_10 (MaxPooling (None, 2, 15, 15, 32)     0         \n",
            "_________________________________________________________________\n",
            "conv3d_11 (Conv3D)           (None, 2, 15, 15, 64)     16448     \n",
            "_________________________________________________________________\n",
            "activation_11 (Activation)   (None, 2, 15, 15, 64)     0         \n",
            "_________________________________________________________________\n",
            "batch_normalization_15 (Batc (None, 2, 15, 15, 64)     256       \n",
            "_________________________________________________________________\n",
            "max_pooling3d_11 (MaxPooling (None, 1, 7, 7, 64)       0         \n",
            "_________________________________________________________________\n",
            "flatten_2 (Flatten)          (None, 3136)              0         \n",
            "_________________________________________________________________\n",
            "dense_6 (Dense)              (None, 64)                200768    \n",
            "_________________________________________________________________\n",
            "batch_normalization_16 (Batc (None, 64)                256       \n",
            "_________________________________________________________________\n",
            "dropout_4 (Dropout)          (None, 64)                0         \n",
            "_________________________________________________________________\n",
            "dense_7 (Dense)              (None, 64)                4160      \n",
            "_________________________________________________________________\n",
            "batch_normalization_17 (Batc (None, 64)                256       \n",
            "_________________________________________________________________\n",
            "dropout_5 (Dropout)          (None, 64)                0         \n",
            "_________________________________________________________________\n",
            "dense_8 (Dense)              (None, 5)                 325       \n",
            "=================================================================\n",
            "Total params: 230,949\n",
            "Trainable params: 230,453\n",
            "Non-trainable params: 496\n",
            "_________________________________________________________________\n"
          ],
          "name": "stdout"
        }
      ]
    },
    {
      "cell_type": "code",
      "metadata": {
        "id": "ZT0_3hH4SZea",
        "colab": {
          "base_uri": "https://localhost:8080/"
        },
        "outputId": "dbb591a3-1860-49c9-fd06-a4cef59b9d7e"
      },
      "source": [
        "print(\"Total Params:\", conv_3d16_model.count_params())\n",
        "history_model16=conv_3d16.train_model(conv_3d16_model,augment_data=True)"
      ],
      "execution_count": null,
      "outputs": [
        {
          "output_type": "stream",
          "text": [
            "Total Params: 230949\n",
            "WARNING:tensorflow:`period` argument is deprecated. Please use `save_freq` to specify the frequency in number of batches seen.\n",
            "Epoch 1/30\n",
            "34/34 [==============================] - 81s 2s/step - loss: 2.1980 - categorical_accuracy: 0.2385 - val_loss: 1.7827 - val_categorical_accuracy: 0.2100\n",
            "\n",
            "Epoch 00001: saving model to model_init_2021-03-0813_49_13.491678/model-00001-1.99188-0.29487-1.78275-0.21000.h5\n",
            "Epoch 2/30\n",
            "34/34 [==============================] - 79s 2s/step - loss: 1.5579 - categorical_accuracy: 0.3848 - val_loss: 2.4934 - val_categorical_accuracy: 0.1900\n",
            "\n",
            "Epoch 00002: saving model to model_init_2021-03-0813_49_13.491678/model-00002-1.50989-0.41478-2.49342-0.19000.h5\n",
            "Epoch 3/30\n",
            "34/34 [==============================] - 79s 2s/step - loss: 1.3621 - categorical_accuracy: 0.4715 - val_loss: 3.0699 - val_categorical_accuracy: 0.2100\n",
            "\n",
            "Epoch 00003: saving model to model_init_2021-03-0813_49_13.491678/model-00003-1.37996-0.46380-3.06993-0.21000.h5\n",
            "Epoch 4/30\n",
            "34/34 [==============================] - 79s 2s/step - loss: 1.1754 - categorical_accuracy: 0.5461 - val_loss: 4.0165 - val_categorical_accuracy: 0.2000\n",
            "\n",
            "Epoch 00004: saving model to model_init_2021-03-0813_49_13.491678/model-00004-1.18459-0.54751-4.01652-0.20000.h5\n",
            "Epoch 5/30\n",
            "34/34 [==============================] - 79s 2s/step - loss: 1.1399 - categorical_accuracy: 0.5499 - val_loss: 4.3032 - val_categorical_accuracy: 0.2300\n",
            "\n",
            "Epoch 00005: saving model to model_init_2021-03-0813_49_13.491678/model-00005-1.10749-0.55958-4.30323-0.23000.h5\n",
            "\n",
            "Epoch 00005: ReduceLROnPlateau reducing learning rate to 3.9999998989515007e-05.\n",
            "Epoch 6/30\n",
            "34/34 [==============================] - 78s 2s/step - loss: 0.9819 - categorical_accuracy: 0.6213 - val_loss: 4.5079 - val_categorical_accuracy: 0.2600\n",
            "\n",
            "Epoch 00006: saving model to model_init_2021-03-0813_49_13.491678/model-00006-1.04353-0.59427-4.50786-0.26000.h5\n",
            "Epoch 7/30\n",
            "34/34 [==============================] - 79s 2s/step - loss: 1.0303 - categorical_accuracy: 0.5988 - val_loss: 4.2827 - val_categorical_accuracy: 0.2300\n",
            "\n",
            "Epoch 00007: saving model to model_init_2021-03-0813_49_13.491678/model-00007-1.03710-0.60181-4.28266-0.23000.h5\n",
            "Epoch 8/30\n",
            "34/34 [==============================] - 79s 2s/step - loss: 0.9271 - categorical_accuracy: 0.6242 - val_loss: 4.0527 - val_categorical_accuracy: 0.2400\n",
            "\n",
            "Epoch 00008: saving model to model_init_2021-03-0813_49_13.491678/model-00008-0.93538-0.62066-4.05269-0.24000.h5\n",
            "Epoch 9/30\n",
            "34/34 [==============================] - 79s 2s/step - loss: 1.0322 - categorical_accuracy: 0.5975 - val_loss: 3.3380 - val_categorical_accuracy: 0.2900\n",
            "\n",
            "Epoch 00009: saving model to model_init_2021-03-0813_49_13.491678/model-00009-0.99083-0.61840-3.33801-0.29000.h5\n",
            "\n",
            "Epoch 00009: ReduceLROnPlateau reducing learning rate to 7.999999797903002e-06.\n",
            "Epoch 10/30\n",
            "34/34 [==============================] - 78s 2s/step - loss: 0.9438 - categorical_accuracy: 0.6293 - val_loss: 2.9055 - val_categorical_accuracy: 0.2500\n",
            "\n",
            "Epoch 00010: saving model to model_init_2021-03-0813_49_13.491678/model-00010-0.94240-0.62443-2.90551-0.25000.h5\n",
            "Epoch 11/30\n",
            "34/34 [==============================] - 78s 2s/step - loss: 0.9572 - categorical_accuracy: 0.6138 - val_loss: 2.4875 - val_categorical_accuracy: 0.2400\n",
            "\n",
            "Epoch 00011: saving model to model_init_2021-03-0813_49_13.491678/model-00011-0.96954-0.61765-2.48750-0.24000.h5\n",
            "Epoch 12/30\n",
            "34/34 [==============================] - 79s 2s/step - loss: 0.9717 - categorical_accuracy: 0.6291 - val_loss: 2.1880 - val_categorical_accuracy: 0.2700\n",
            "\n",
            "Epoch 00012: saving model to model_init_2021-03-0813_49_13.491678/model-00012-0.99081-0.61614-2.18801-0.27000.h5\n",
            "Epoch 13/30\n",
            "34/34 [==============================] - 79s 2s/step - loss: 1.0218 - categorical_accuracy: 0.6122 - val_loss: 1.8828 - val_categorical_accuracy: 0.2900\n",
            "\n",
            "Epoch 00013: saving model to model_init_2021-03-0813_49_13.491678/model-00013-0.97494-0.62293-1.88279-0.29000.h5\n",
            "\n",
            "Epoch 00013: ReduceLROnPlateau reducing learning rate to 1.5999999959603884e-06.\n",
            "Epoch 14/30\n",
            "34/34 [==============================] - 77s 2s/step - loss: 0.9144 - categorical_accuracy: 0.6331 - val_loss: 1.6461 - val_categorical_accuracy: 0.3700\n",
            "\n",
            "Epoch 00014: saving model to model_init_2021-03-0813_49_13.491678/model-00014-0.91101-0.63198-1.64611-0.37000.h5\n",
            "Epoch 15/30\n",
            "34/34 [==============================] - 79s 2s/step - loss: 0.8766 - categorical_accuracy: 0.6709 - val_loss: 1.5346 - val_categorical_accuracy: 0.4100\n",
            "\n",
            "Epoch 00015: saving model to model_init_2021-03-0813_49_13.491678/model-00015-0.91732-0.65008-1.53456-0.41000.h5\n",
            "Epoch 16/30\n",
            "34/34 [==============================] - 78s 2s/step - loss: 0.9699 - categorical_accuracy: 0.6156 - val_loss: 1.3087 - val_categorical_accuracy: 0.5100\n",
            "\n",
            "Epoch 00016: saving model to model_init_2021-03-0813_49_13.491678/model-00016-0.95593-0.61388-1.30871-0.51000.h5\n",
            "Epoch 17/30\n",
            "34/34 [==============================] - 79s 2s/step - loss: 0.9281 - categorical_accuracy: 0.6264 - val_loss: 1.2333 - val_categorical_accuracy: 0.5100\n",
            "\n",
            "Epoch 00017: saving model to model_init_2021-03-0813_49_13.491678/model-00017-0.89961-0.63650-1.23325-0.51000.h5\n",
            "Epoch 18/30\n",
            "34/34 [==============================] - 79s 2s/step - loss: 0.9708 - categorical_accuracy: 0.6152 - val_loss: 1.0034 - val_categorical_accuracy: 0.6600\n",
            "\n",
            "Epoch 00018: saving model to model_init_2021-03-0813_49_13.491678/model-00018-0.98043-0.60633-1.00338-0.66000.h5\n",
            "Epoch 19/30\n",
            "34/34 [==============================] - 79s 2s/step - loss: 0.8840 - categorical_accuracy: 0.6578 - val_loss: 1.1325 - val_categorical_accuracy: 0.6200\n",
            "\n",
            "Epoch 00019: saving model to model_init_2021-03-0813_49_13.491678/model-00019-0.94300-0.64555-1.13252-0.62000.h5\n",
            "Epoch 20/30\n",
            "34/34 [==============================] - 78s 2s/step - loss: 0.9504 - categorical_accuracy: 0.6245 - val_loss: 0.9567 - val_categorical_accuracy: 0.6300\n",
            "\n",
            "Epoch 00020: saving model to model_init_2021-03-0813_49_13.491678/model-00020-0.92272-0.63876-0.95674-0.63000.h5\n",
            "Epoch 21/30\n",
            "34/34 [==============================] - 78s 2s/step - loss: 0.9536 - categorical_accuracy: 0.6391 - val_loss: 0.9473 - val_categorical_accuracy: 0.6300\n",
            "\n",
            "Epoch 00021: saving model to model_init_2021-03-0813_49_13.491678/model-00021-0.95507-0.63348-0.94734-0.63000.h5\n",
            "Epoch 22/30\n",
            "34/34 [==============================] - 79s 2s/step - loss: 0.9495 - categorical_accuracy: 0.6295 - val_loss: 0.9246 - val_categorical_accuracy: 0.6200\n",
            "\n",
            "Epoch 00022: saving model to model_init_2021-03-0813_49_13.491678/model-00022-0.95871-0.62217-0.92455-0.62000.h5\n",
            "Epoch 23/30\n",
            "34/34 [==============================] - 78s 2s/step - loss: 1.0509 - categorical_accuracy: 0.6002 - val_loss: 0.7813 - val_categorical_accuracy: 0.6800\n",
            "\n",
            "Epoch 00023: saving model to model_init_2021-03-0813_49_13.491678/model-00023-0.99837-0.60558-0.78134-0.68000.h5\n",
            "Epoch 24/30\n",
            "34/34 [==============================] - 79s 2s/step - loss: 0.9600 - categorical_accuracy: 0.6202 - val_loss: 0.9116 - val_categorical_accuracy: 0.5600\n",
            "\n",
            "Epoch 00024: saving model to model_init_2021-03-0813_49_13.491678/model-00024-0.92205-0.63575-0.91163-0.56000.h5\n",
            "Epoch 25/30\n",
            "34/34 [==============================] - 78s 2s/step - loss: 1.0014 - categorical_accuracy: 0.6238 - val_loss: 0.8772 - val_categorical_accuracy: 0.6000\n",
            "\n",
            "Epoch 00025: saving model to model_init_2021-03-0813_49_13.491678/model-00025-0.93326-0.63876-0.87722-0.60000.h5\n",
            "Epoch 26/30\n",
            "34/34 [==============================] - 79s 2s/step - loss: 0.9176 - categorical_accuracy: 0.6413 - val_loss: 0.8479 - val_categorical_accuracy: 0.6500\n",
            "\n",
            "Epoch 00026: saving model to model_init_2021-03-0813_49_13.491678/model-00026-0.95828-0.62066-0.84794-0.65000.h5\n",
            "Epoch 27/30\n",
            "34/34 [==============================] - 78s 2s/step - loss: 0.9662 - categorical_accuracy: 0.6370 - val_loss: 0.8571 - val_categorical_accuracy: 0.6700\n",
            "\n",
            "Epoch 00027: saving model to model_init_2021-03-0813_49_13.491678/model-00027-0.98804-0.62368-0.85710-0.67000.h5\n",
            "\n",
            "Epoch 00027: ReduceLROnPlateau reducing learning rate to 3.200000037395512e-07.\n",
            "Epoch 28/30\n",
            "34/34 [==============================] - 78s 2s/step - loss: 0.9534 - categorical_accuracy: 0.6326 - val_loss: 0.6934 - val_categorical_accuracy: 0.7100\n",
            "\n",
            "Epoch 00028: saving model to model_init_2021-03-0813_49_13.491678/model-00028-0.93912-0.63198-0.69344-0.71000.h5\n",
            "Epoch 29/30\n",
            "34/34 [==============================] - 78s 2s/step - loss: 0.9846 - categorical_accuracy: 0.6127 - val_loss: 0.9418 - val_categorical_accuracy: 0.6200\n",
            "\n",
            "Epoch 00029: saving model to model_init_2021-03-0813_49_13.491678/model-00029-0.93712-0.62670-0.94177-0.62000.h5\n",
            "Epoch 30/30\n",
            "34/34 [==============================] - 78s 2s/step - loss: 1.0032 - categorical_accuracy: 0.6207 - val_loss: 0.8708 - val_categorical_accuracy: 0.6200\n",
            "\n",
            "Epoch 00030: saving model to model_init_2021-03-0813_49_13.491678/model-00030-0.95889-0.64253-0.87081-0.62000.h5\n"
          ],
          "name": "stdout"
        }
      ]
    },
    {
      "cell_type": "code",
      "metadata": {
        "id": "FVxnUS66SZea",
        "colab": {
          "base_uri": "https://localhost:8080/",
          "height": 265
        },
        "outputId": "9666b182-a2be-4bfe-c1e7-ff247dbfe6e4"
      },
      "source": [
        "plot(history_model16)"
      ],
      "execution_count": null,
      "outputs": [
        {
          "output_type": "display_data",
          "data": {
            "image/png": "[encoded data removed]",
            "text/plain": [
              "<Figure size 1080x288 with 2 Axes>"
            ]
          },
          "metadata": {
            "tags": [],
            "needs_background": "light"
          }
        }
      ]
    },
    {
      "cell_type": "markdown",
      "metadata": {
        "id": "lMFoar3LSZeb"
      },
      "source": [
        "# Model 17 - CNN LSTM with GRU - Similar to Model 9"
      ]
    },
    {
      "cell_type": "code",
      "metadata": {
        "collapsed": true,
        "id": "M1Bs-AKFSZeb"
      },
      "source": [
        "class RNNCNN2(ModelBuilderMoreAugmentation):\n",
        "    \n",
        "    def define_model(self,lstm_cells=64,dense_neurons=64,dropout=0.25):\n",
        "\n",
        "        model = Sequential()\n",
        "\n",
        "        model.add(TimeDistributed(Conv2D(16, (3, 3) , padding='same', activation='relu'),\n",
        "                                  input_shape=(self.frames_to_sample,self.image_height,self.image_width,self.channels)))\n",
        "        model.add(TimeDistributed(BatchNormalization()))\n",
        "        model.add(TimeDistributed(MaxPooling2D((2, 2))))\n",
        "        \n",
        "        model.add(TimeDistributed(Conv2D(32, (3, 3) , padding='same', activation='relu')))\n",
        "        model.add(TimeDistributed(BatchNormalization()))\n",
        "        model.add(TimeDistributed(MaxPooling2D((2, 2))))\n",
        "        \n",
        "        model.add(TimeDistributed(Conv2D(64, (3, 3) , padding='same', activation='relu')))\n",
        "        model.add(TimeDistributed(BatchNormalization()))\n",
        "        model.add(TimeDistributed(MaxPooling2D((2, 2))))\n",
        "        \n",
        "        model.add(TimeDistributed(Conv2D(128, (3, 3) , padding='same', activation='relu')))\n",
        "        model.add(TimeDistributed(BatchNormalization()))\n",
        "        model.add(TimeDistributed(MaxPooling2D((2, 2))))\n",
        "        \n",
        "\n",
        "        model.add(TimeDistributed(Flatten()))\n",
        "\n",
        "\n",
        "        model.add(GRU(lstm_cells))\n",
        "        model.add(Dropout(dropout))\n",
        "        \n",
        "        model.add(Dense(dense_neurons,activation='relu'))\n",
        "        model.add(Dropout(dropout))\n",
        "        \n",
        "        model.add(Dense(self.num_classes, activation='softmax'))\n",
        "        optimiser = optimizers.Adam(lr=0.0002)\n",
        "        model.compile(optimizer=optimiser, loss='categorical_crossentropy', metrics=['categorical_accuracy'])\n",
        "        return model"
      ],
      "execution_count": null,
      "outputs": []
    },
    {
      "cell_type": "code",
      "metadata": {
        "id": "l2nAZzC6SZeb",
        "colab": {
          "base_uri": "https://localhost:8080/"
        },
        "outputId": "ba4d1415-52f0-4436-9b61-5ec85d1f2c7a"
      },
      "source": [
        "rnn_cnn2=RNNCNN2()\n",
        "rnn_cnn2.initialize_path(project_folder)\n",
        "rnn_cnn2.initialize_image_properties(image_height=120,image_width=120)\n",
        "rnn_cnn2.initialize_hyperparams(frames_to_sample=18,batch_size=20,num_epochs=20)\n",
        "rnn_cnn2_model=rnn_cnn2.define_model(lstm_cells=128,dense_neurons=128,dropout=0.25)\n",
        "rnn_cnn2_model.summary()"
      ],
      "execution_count": null,
      "outputs": [
        {
          "output_type": "stream",
          "text": [
            "Model: \"sequential_3\"\n",
            "_________________________________________________________________\n",
            "Layer (type)                 Output Shape              Param #   \n",
            "=================================================================\n",
            "time_distributed (TimeDistri (None, 18, 120, 120, 16)  448       \n",
            "_________________________________________________________________\n",
            "time_distributed_1 (TimeDist (None, 18, 120, 120, 16)  64        \n",
            "_________________________________________________________________\n",
            "time_distributed_2 (TimeDist (None, 18, 60, 60, 16)    0         \n",
            "_________________________________________________________________\n",
            "time_distributed_3 (TimeDist (None, 18, 60, 60, 32)    4640      \n",
            "_________________________________________________________________\n",
            "time_distributed_4 (TimeDist (None, 18, 60, 60, 32)    128       \n",
            "_________________________________________________________________\n",
            "time_distributed_5 (TimeDist (None, 18, 30, 30, 32)    0         \n",
            "_________________________________________________________________\n",
            "time_distributed_6 (TimeDist (None, 18, 30, 30, 64)    18496     \n",
            "_________________________________________________________________\n",
            "time_distributed_7 (TimeDist (None, 18, 30, 30, 64)    256       \n",
            "_________________________________________________________________\n",
            "time_distributed_8 (TimeDist (None, 18, 15, 15, 64)    0         \n",
            "_________________________________________________________________\n",
            "time_distributed_9 (TimeDist (None, 18, 15, 15, 128)   73856     \n",
            "_________________________________________________________________\n",
            "time_distributed_10 (TimeDis (None, 18, 15, 15, 128)   512       \n",
            "_________________________________________________________________\n",
            "time_distributed_11 (TimeDis (None, 18, 7, 7, 128)     0         \n",
            "_________________________________________________________________\n",
            "time_distributed_12 (TimeDis (None, 18, 6272)          0         \n",
            "_________________________________________________________________\n",
            "gru (GRU)                    (None, 128)               2458368   \n",
            "_________________________________________________________________\n",
            "dropout_6 (Dropout)          (None, 128)               0         \n",
            "_________________________________________________________________\n",
            "dense_9 (Dense)              (None, 128)               16512     \n",
            "_________________________________________________________________\n",
            "dropout_7 (Dropout)          (None, 128)               0         \n",
            "_________________________________________________________________\n",
            "dense_10 (Dense)             (None, 5)                 645       \n",
            "=================================================================\n",
            "Total params: 2,573,925\n",
            "Trainable params: 2,573,445\n",
            "Non-trainable params: 480\n",
            "_________________________________________________________________\n"
          ],
          "name": "stdout"
        }
      ]
    },
    {
      "cell_type": "code",
      "metadata": {
        "id": "VDB_3GqHSZeb",
        "colab": {
          "base_uri": "https://localhost:8080/"
        },
        "outputId": "38d6a0d8-bbc0-43da-8372-a352dc2e561e"
      },
      "source": [
        "print(\"Total Params:\", rnn_cnn2_model.count_params())\n",
        "history_model17=rnn_cnn2.train_model(rnn_cnn2_model,augment_data=True)"
      ],
      "execution_count": null,
      "outputs": [
        {
          "output_type": "stream",
          "text": [
            "Total Params: 2573925\n",
            "WARNING:tensorflow:`period` argument is deprecated. Please use `save_freq` to specify the frequency in number of batches seen.\n",
            "Epoch 1/20\n",
            "34/34 [==============================] - 94s 3s/step - loss: 1.7056 - categorical_accuracy: 0.2797 - val_loss: 1.9094 - val_categorical_accuracy: 0.1700\n",
            "\n",
            "Epoch 00001: saving model to model_init_2021-03-0814_33_04.646442/model-00001-1.53683-0.33937-1.90937-0.17000.h5\n",
            "Epoch 2/20\n",
            "34/34 [==============================] - 90s 3s/step - loss: 1.1226 - categorical_accuracy: 0.5531 - val_loss: 2.5091 - val_categorical_accuracy: 0.1500\n",
            "\n",
            "Epoch 00002: saving model to model_init_2021-03-0814_33_04.646442/model-00002-1.07992-0.57164-2.50911-0.15000.h5\n",
            "Epoch 3/20\n",
            "34/34 [==============================] - 89s 3s/step - loss: 0.9278 - categorical_accuracy: 0.6374 - val_loss: 2.5439 - val_categorical_accuracy: 0.1700\n",
            "\n",
            "Epoch 00003: saving model to model_init_2021-03-0814_33_04.646442/model-00003-0.89964-0.64329-2.54387-0.17000.h5\n",
            "Epoch 4/20\n",
            "34/34 [==============================] - 88s 3s/step - loss: 0.7462 - categorical_accuracy: 0.7247 - val_loss: 2.9431 - val_categorical_accuracy: 0.2100\n",
            "\n",
            "Epoch 00004: saving model to model_init_2021-03-0814_33_04.646442/model-00004-0.73073-0.72398-2.94314-0.21000.h5\n",
            "Epoch 5/20\n",
            "34/34 [==============================] - 88s 3s/step - loss: 0.5427 - categorical_accuracy: 0.8266 - val_loss: 3.1141 - val_categorical_accuracy: 0.2700\n",
            "\n",
            "Epoch 00005: saving model to model_init_2021-03-0814_33_04.646442/model-00005-0.58115-0.80317-3.11412-0.27000.h5\n",
            "\n",
            "Epoch 00005: ReduceLROnPlateau reducing learning rate to 3.9999998989515007e-05.\n",
            "Epoch 6/20\n",
            "34/34 [==============================] - 89s 3s/step - loss: 0.4546 - categorical_accuracy: 0.8624 - val_loss: 3.2470 - val_categorical_accuracy: 0.2300\n",
            "\n",
            "Epoch 00006: saving model to model_init_2021-03-0814_33_04.646442/model-00006-0.46823-0.85068-3.24697-0.23000.h5\n",
            "Epoch 7/20\n",
            "34/34 [==============================] - 89s 3s/step - loss: 0.4447 - categorical_accuracy: 0.8576 - val_loss: 3.2500 - val_categorical_accuracy: 0.2400\n",
            "\n",
            "Epoch 00007: saving model to model_init_2021-03-0814_33_04.646442/model-00007-0.42408-0.86953-3.25000-0.24000.h5\n",
            "Epoch 8/20\n",
            "34/34 [==============================] - 88s 3s/step - loss: 0.3563 - categorical_accuracy: 0.8995 - val_loss: 3.2003 - val_categorical_accuracy: 0.2400\n",
            "\n",
            "Epoch 00008: saving model to model_init_2021-03-0814_33_04.646442/model-00008-0.38556-0.88084-3.20032-0.24000.h5\n",
            "Epoch 9/20\n",
            "34/34 [==============================] - 90s 3s/step - loss: 0.3603 - categorical_accuracy: 0.8969 - val_loss: 3.0676 - val_categorical_accuracy: 0.3000\n",
            "\n",
            "Epoch 00009: saving model to model_init_2021-03-0814_33_04.646442/model-00009-0.35949-0.89291-3.06755-0.30000.h5\n",
            "\n",
            "Epoch 00009: ReduceLROnPlateau reducing learning rate to 7.999999797903002e-06.\n",
            "Epoch 10/20\n",
            "34/34 [==============================] - 89s 3s/step - loss: 0.3298 - categorical_accuracy: 0.9107 - val_loss: 3.3584 - val_categorical_accuracy: 0.2100\n",
            "\n",
            "Epoch 00010: saving model to model_init_2021-03-0814_33_04.646442/model-00010-0.32927-0.90724-3.35843-0.21000.h5\n",
            "Epoch 11/20\n",
            "34/34 [==============================] - 88s 3s/step - loss: 0.3348 - categorical_accuracy: 0.9074 - val_loss: 2.8193 - val_categorical_accuracy: 0.2800\n",
            "\n",
            "Epoch 00011: saving model to model_init_2021-03-0814_33_04.646442/model-00011-0.33000-0.90347-2.81931-0.28000.h5\n",
            "Epoch 12/20\n",
            "34/34 [==============================] - 89s 3s/step - loss: 0.3253 - categorical_accuracy: 0.9088 - val_loss: 2.6351 - val_categorical_accuracy: 0.3000\n",
            "\n",
            "Epoch 00012: saving model to model_init_2021-03-0814_33_04.646442/model-00012-0.32664-0.91403-2.63508-0.30000.h5\n",
            "Epoch 13/20\n",
            "34/34 [==============================] - 89s 3s/step - loss: 0.3130 - categorical_accuracy: 0.9140 - val_loss: 1.8078 - val_categorical_accuracy: 0.4500\n",
            "\n",
            "Epoch 00013: saving model to model_init_2021-03-0814_33_04.646442/model-00013-0.30911-0.91931-1.80778-0.45000.h5\n",
            "Epoch 14/20\n",
            "34/34 [==============================] - 89s 3s/step - loss: 0.3224 - categorical_accuracy: 0.9118 - val_loss: 1.8284 - val_categorical_accuracy: 0.3800\n",
            "\n",
            "Epoch 00014: saving model to model_init_2021-03-0814_33_04.646442/model-00014-0.30755-0.91704-1.82844-0.38000.h5\n",
            "Epoch 15/20\n",
            "34/34 [==============================] - 88s 3s/step - loss: 0.2967 - categorical_accuracy: 0.9248 - val_loss: 1.5213 - val_categorical_accuracy: 0.4800\n",
            "\n",
            "Epoch 00015: saving model to model_init_2021-03-0814_33_04.646442/model-00015-0.32325-0.91026-1.52127-0.48000.h5\n",
            "Epoch 16/20\n",
            "34/34 [==============================] - 89s 3s/step - loss: 0.3054 - categorical_accuracy: 0.9202 - val_loss: 1.2198 - val_categorical_accuracy: 0.5400\n",
            "\n",
            "Epoch 00016: saving model to model_init_2021-03-0814_33_04.646442/model-00016-0.31530-0.91176-1.21978-0.54000.h5\n",
            "Epoch 17/20\n",
            "34/34 [==============================] - 89s 3s/step - loss: 0.3338 - categorical_accuracy: 0.8901 - val_loss: 0.9990 - val_categorical_accuracy: 0.5600\n",
            "\n",
            "Epoch 00017: saving model to model_init_2021-03-0814_33_04.646442/model-00017-0.32030-0.90121-0.99903-0.56000.h5\n",
            "Epoch 18/20\n",
            "34/34 [==============================] - 92s 3s/step - loss: 0.3096 - categorical_accuracy: 0.9218 - val_loss: 1.0674 - val_categorical_accuracy: 0.6000\n",
            "\n",
            "Epoch 00018: saving model to model_init_2021-03-0814_33_04.646442/model-00018-0.29771-0.92308-1.06743-0.60000.h5\n",
            "Epoch 19/20\n",
            "34/34 [==============================] - 89s 3s/step - loss: 0.3049 - categorical_accuracy: 0.9146 - val_loss: 0.7783 - val_categorical_accuracy: 0.7100\n",
            "\n",
            "Epoch 00019: saving model to model_init_2021-03-0814_33_04.646442/model-00019-0.29870-0.92534-0.77832-0.71000.h5\n",
            "Epoch 20/20\n",
            "34/34 [==============================] - 89s 3s/step - loss: 0.2814 - categorical_accuracy: 0.9360 - val_loss: 0.8999 - val_categorical_accuracy: 0.6700\n",
            "\n",
            "Epoch 00020: saving model to model_init_2021-03-0814_33_04.646442/model-00020-0.27983-0.93213-0.89989-0.67000.h5\n"
          ],
          "name": "stdout"
        }
      ]
    },
    {
      "cell_type": "code",
      "metadata": {
        "id": "gGBjKRGXSZec",
        "colab": {
          "base_uri": "https://localhost:8080/",
          "height": 269
        },
        "outputId": "0db543a5-0ce0-4e66-d114-04d001171508"
      },
      "source": [
        "plot(history_model17)"
      ],
      "execution_count": null,
      "outputs": [
        {
          "output_type": "display_data",
          "data": {
            "image/png": "[encoded data removed]",
            "text/plain": [
              "<Figure size 1080x288 with 2 Axes>"
            ]
          },
          "metadata": {
            "tags": [],
            "needs_background": "light"
          }
        }
      ]
    },
    {
      "cell_type": "markdown",
      "metadata": {
        "collapsed": true,
        "id": "iBTsPwnISZec"
      },
      "source": [
        "### We see that overfitting is considerably less when we do more augmentation. However there is not much improvement on accuracy"
      ]
    },
    {
      "cell_type": "markdown",
      "metadata": {
        "collapsed": true,
        "id": "rdVuab_PSZec"
      },
      "source": [
        "# Model 18 - Transfer Learning"
      ]
    },
    {
      "cell_type": "code",
      "metadata": {
        "collapsed": true,
        "id": "Q5Lm2udmSZec"
      },
      "source": [
        "from keras.applications import mobilenet"
      ],
      "execution_count": null,
      "outputs": []
    },
    {
      "cell_type": "code",
      "metadata": {
        "id": "h_lmm-UGSZed",
        "colab": {
          "base_uri": "https://localhost:8080/"
        },
        "outputId": "f52bf0f1-e903-4f4b-94ba-cb403787f2b7"
      },
      "source": [
        "mobilenet_transfer = mobilenet.MobileNet(weights='imagenet', include_top=False)\n",
        "\n",
        "class RNNCNN_TL(ModelBuilderMoreAugmentation):\n",
        "    \n",
        "    def define_model(self,lstm_cells=64,dense_neurons=64,dropout=0.25):\n",
        "        \n",
        "        model = Sequential()\n",
        "        model.add(TimeDistributed(mobilenet_transfer,input_shape=(self.frames_to_sample,self.image_height,self.image_width,self.channels)))\n",
        "        \n",
        "        \n",
        "        for layer in model.layers:\n",
        "            layer.trainable = False\n",
        "        \n",
        "        \n",
        "        model.add(TimeDistributed(BatchNormalization()))\n",
        "        model.add(TimeDistributed(MaxPooling2D((2, 2))))\n",
        "        model.add(TimeDistributed(Flatten()))\n",
        "\n",
        "        model.add(LSTM(lstm_cells))\n",
        "        model.add(Dropout(dropout))\n",
        "        \n",
        "        model.add(Dense(dense_neurons,activation='relu'))\n",
        "        model.add(Dropout(dropout))\n",
        "        \n",
        "        model.add(Dense(self.num_classes, activation='softmax'))\n",
        "        \n",
        "        \n",
        "        optimiser = optimizers.Adam()\n",
        "        model.compile(optimizer=optimiser, loss='categorical_crossentropy', metrics=['categorical_accuracy'])\n",
        "        return model"
      ],
      "execution_count": null,
      "outputs": [
        {
          "output_type": "stream",
          "text": [
            "WARNING:tensorflow:`input_shape` is undefined or non-square, or `rows` is not in [128, 160, 192, 224]. Weights for input shape (224, 224) will be loaded as the default.\n",
            "Downloading data from https://storage.googleapis.com/tensorflow/keras-applications/mobilenet/mobilenet_1_0_224_tf_no_top.h5\n",
            "17227776/17225924 [==============================] - 0s 0us/step\n"
          ],
          "name": "stdout"
        }
      ]
    },
    {
      "cell_type": "code",
      "metadata": {
        "id": "ibVsqyegSZed",
        "colab": {
          "base_uri": "https://localhost:8080/"
        },
        "outputId": "3c38de3e-38f3-46d5-d0cb-6005dbe1ae06"
      },
      "source": [
        "rnn_cnn_tl=RNNCNN_TL()\n",
        "rnn_cnn_tl.initialize_path(project_folder)\n",
        "rnn_cnn_tl.initialize_image_properties(image_height=120,image_width=120)\n",
        "rnn_cnn_tl.initialize_hyperparams(frames_to_sample=16,batch_size=5,num_epochs=20)\n",
        "rnn_cnn_tl_model=rnn_cnn_tl.define_model(lstm_cells=128,dense_neurons=128,dropout=0.25)\n",
        "rnn_cnn_tl_model.summary()"
      ],
      "execution_count": null,
      "outputs": [
        {
          "output_type": "stream",
          "text": [
            "Model: \"sequential_4\"\n",
            "_________________________________________________________________\n",
            "Layer (type)                 Output Shape              Param #   \n",
            "=================================================================\n",
            "time_distributed_13 (TimeDis (None, 16, 3, 3, 1024)    3228864   \n",
            "_________________________________________________________________\n",
            "time_distributed_14 (TimeDis (None, 16, 3, 3, 1024)    4096      \n",
            "_________________________________________________________________\n",
            "time_distributed_15 (TimeDis (None, 16, 1, 1, 1024)    0         \n",
            "_________________________________________________________________\n",
            "time_distributed_16 (TimeDis (None, 16, 1024)          0         \n",
            "_________________________________________________________________\n",
            "lstm (LSTM)                  (None, 128)               590336    \n",
            "_________________________________________________________________\n",
            "dropout_8 (Dropout)          (None, 128)               0         \n",
            "_________________________________________________________________\n",
            "dense_11 (Dense)             (None, 128)               16512     \n",
            "_________________________________________________________________\n",
            "dropout_9 (Dropout)          (None, 128)               0         \n",
            "_________________________________________________________________\n",
            "dense_12 (Dense)             (None, 5)                 645       \n",
            "=================================================================\n",
            "Total params: 3,840,453\n",
            "Trainable params: 609,541\n",
            "Non-trainable params: 3,230,912\n",
            "_________________________________________________________________\n"
          ],
          "name": "stdout"
        }
      ]
    },
    {
      "cell_type": "code",
      "metadata": {
        "id": "pvvk09LISZee",
        "colab": {
          "base_uri": "https://localhost:8080/"
        },
        "outputId": "d8241744-224d-4dd0-9dcb-9649576a66e6"
      },
      "source": [
        "print(\"Total Params:\", rnn_cnn_tl_model.count_params())\n",
        "history_model18=rnn_cnn_tl.train_model(rnn_cnn_tl_model,augment_data=True)"
      ],
      "execution_count": null,
      "outputs": [
        {
          "output_type": "stream",
          "text": [
            "Total Params: 3840453\n",
            "WARNING:tensorflow:`period` argument is deprecated. Please use `save_freq` to specify the frequency in number of batches seen.\n",
            "Epoch 1/20\n",
            "133/133 [==============================] - 82s 600ms/step - loss: 1.4974 - categorical_accuracy: 0.3432 - val_loss: 0.9930 - val_categorical_accuracy: 0.5700\n",
            "\n",
            "Epoch 00001: saving model to model_init_2021-03-0815_02_56.125343/model-00001-1.36383-0.41855-0.99300-0.57000.h5\n",
            "Epoch 2/20\n",
            "133/133 [==============================] - 79s 600ms/step - loss: 0.9313 - categorical_accuracy: 0.6408 - val_loss: 0.6508 - val_categorical_accuracy: 0.8000\n",
            "\n",
            "Epoch 00002: saving model to model_init_2021-03-0815_02_56.125343/model-00002-0.87833-0.65309-0.65082-0.80000.h5\n",
            "Epoch 3/20\n",
            "133/133 [==============================] - 79s 597ms/step - loss: 0.6754 - categorical_accuracy: 0.7617 - val_loss: 0.6287 - val_categorical_accuracy: 0.7700\n",
            "\n",
            "Epoch 00003: saving model to model_init_2021-03-0815_02_56.125343/model-00003-0.66100-0.75792-0.62872-0.77000.h5\n",
            "Epoch 4/20\n",
            "133/133 [==============================] - 80s 603ms/step - loss: 0.5232 - categorical_accuracy: 0.8207 - val_loss: 0.6731 - val_categorical_accuracy: 0.7600\n",
            "\n",
            "Epoch 00004: saving model to model_init_2021-03-0815_02_56.125343/model-00004-0.55217-0.80618-0.67307-0.76000.h5\n",
            "Epoch 5/20\n",
            "133/133 [==============================] - 79s 598ms/step - loss: 0.4349 - categorical_accuracy: 0.8492 - val_loss: 0.7252 - val_categorical_accuracy: 0.7300\n",
            "\n",
            "Epoch 00005: saving model to model_init_2021-03-0815_02_56.125343/model-00005-0.41483-0.86048-0.72521-0.73000.h5\n",
            "Epoch 6/20\n",
            "133/133 [==============================] - 79s 596ms/step - loss: 0.3318 - categorical_accuracy: 0.8789 - val_loss: 0.7333 - val_categorical_accuracy: 0.7400\n",
            "\n",
            "Epoch 00006: saving model to model_init_2021-03-0815_02_56.125343/model-00006-0.33490-0.87783-0.73329-0.74000.h5\n",
            "Epoch 7/20\n",
            "133/133 [==============================] - 79s 600ms/step - loss: 0.2284 - categorical_accuracy: 0.9185 - val_loss: 0.7116 - val_categorical_accuracy: 0.7900\n",
            "\n",
            "Epoch 00007: saving model to model_init_2021-03-0815_02_56.125343/model-00007-0.26440-0.90196-0.71165-0.79000.h5\n",
            "\n",
            "Epoch 00007: ReduceLROnPlateau reducing learning rate to 0.00020000000949949026.\n",
            "Epoch 8/20\n",
            "133/133 [==============================] - 80s 606ms/step - loss: 0.2268 - categorical_accuracy: 0.9195 - val_loss: 0.7328 - val_categorical_accuracy: 0.7400\n",
            "\n",
            "Epoch 00008: saving model to model_init_2021-03-0815_02_56.125343/model-00008-0.19724-0.92836-0.73275-0.74000.h5\n",
            "Epoch 9/20\n",
            "133/133 [==============================] - 78s 594ms/step - loss: 0.1487 - categorical_accuracy: 0.9521 - val_loss: 0.5790 - val_categorical_accuracy: 0.7700\n",
            "\n",
            "Epoch 00009: saving model to model_init_2021-03-0815_02_56.125343/model-00009-0.14892-0.95023-0.57903-0.77000.h5\n",
            "Epoch 10/20\n",
            "133/133 [==============================] - 79s 600ms/step - loss: 0.1373 - categorical_accuracy: 0.9447 - val_loss: 0.8352 - val_categorical_accuracy: 0.7500\n",
            "\n",
            "Epoch 00010: saving model to model_init_2021-03-0815_02_56.125343/model-00010-0.12769-0.94872-0.83524-0.75000.h5\n",
            "Epoch 11/20\n",
            "133/133 [==============================] - 80s 606ms/step - loss: 0.1015 - categorical_accuracy: 0.9722 - val_loss: 0.8777 - val_categorical_accuracy: 0.7300\n",
            "\n",
            "Epoch 00011: saving model to model_init_2021-03-0815_02_56.125343/model-00011-0.11574-0.96833-0.87767-0.73000.h5\n",
            "Epoch 12/20\n",
            "133/133 [==============================] - 80s 603ms/step - loss: 0.0977 - categorical_accuracy: 0.9710 - val_loss: 0.6818 - val_categorical_accuracy: 0.7600\n",
            "\n",
            "Epoch 00012: saving model to model_init_2021-03-0815_02_56.125343/model-00012-0.10285-0.96531-0.68177-0.76000.h5\n",
            "Epoch 13/20\n",
            "133/133 [==============================] - 80s 606ms/step - loss: 0.0730 - categorical_accuracy: 0.9835 - val_loss: 0.9041 - val_categorical_accuracy: 0.7100\n",
            "\n",
            "Epoch 00013: saving model to model_init_2021-03-0815_02_56.125343/model-00013-0.08618-0.97813-0.90409-0.71000.h5\n",
            "\n",
            "Epoch 00013: ReduceLROnPlateau reducing learning rate to 4.0000001899898055e-05.\n",
            "Epoch 14/20\n",
            "133/133 [==============================] - 80s 606ms/step - loss: 0.0822 - categorical_accuracy: 0.9692 - val_loss: 0.6348 - val_categorical_accuracy: 0.7900\n",
            "\n",
            "Epoch 00014: saving model to model_init_2021-03-0815_02_56.125343/model-00014-0.08525-0.97134-0.63481-0.79000.h5\n",
            "Epoch 15/20\n",
            "133/133 [==============================] - 80s 607ms/step - loss: 0.1201 - categorical_accuracy: 0.9662 - val_loss: 0.7175 - val_categorical_accuracy: 0.7300\n",
            "\n",
            "Epoch 00015: saving model to model_init_2021-03-0815_02_56.125343/model-00015-0.10189-0.96983-0.71748-0.73000.h5\n",
            "Epoch 16/20\n",
            "133/133 [==============================] - 79s 596ms/step - loss: 0.1037 - categorical_accuracy: 0.9673 - val_loss: 0.7519 - val_categorical_accuracy: 0.7300\n",
            "\n",
            "Epoch 00016: saving model to model_init_2021-03-0815_02_56.125343/model-00016-0.08597-0.97662-0.75195-0.73000.h5\n",
            "Epoch 17/20\n",
            "133/133 [==============================] - 79s 601ms/step - loss: 0.0616 - categorical_accuracy: 0.9739 - val_loss: 0.7446 - val_categorical_accuracy: 0.7400\n",
            "\n",
            "Epoch 00017: saving model to model_init_2021-03-0815_02_56.125343/model-00017-0.06226-0.97587-0.74458-0.74000.h5\n",
            "\n",
            "Epoch 00017: ReduceLROnPlateau reducing learning rate to 8.000000525498762e-06.\n",
            "Epoch 18/20\n",
            "133/133 [==============================] - 79s 601ms/step - loss: 0.0592 - categorical_accuracy: 0.9806 - val_loss: 0.8285 - val_categorical_accuracy: 0.7100\n",
            "\n",
            "Epoch 00018: saving model to model_init_2021-03-0815_02_56.125343/model-00018-0.06060-0.98115-0.82852-0.71000.h5\n",
            "Epoch 19/20\n",
            "133/133 [==============================] - 79s 601ms/step - loss: 0.0539 - categorical_accuracy: 0.9869 - val_loss: 0.8171 - val_categorical_accuracy: 0.7000\n",
            "\n",
            "Epoch 00019: saving model to model_init_2021-03-0815_02_56.125343/model-00019-0.05322-0.98793-0.81713-0.70000.h5\n",
            "Epoch 20/20\n",
            "133/133 [==============================] - 79s 599ms/step - loss: 0.0668 - categorical_accuracy: 0.9849 - val_loss: 0.7736 - val_categorical_accuracy: 0.7300\n",
            "\n",
            "Epoch 00020: saving model to model_init_2021-03-0815_02_56.125343/model-00020-0.07226-0.98039-0.77360-0.73000.h5\n"
          ],
          "name": "stdout"
        }
      ]
    },
    {
      "cell_type": "code",
      "metadata": {
        "id": "WzEdNNivSZee",
        "colab": {
          "base_uri": "https://localhost:8080/",
          "height": 265
        },
        "outputId": "7542cad3-e5b7-4a95-8497-2a1445c7da45"
      },
      "source": [
        "plot(history_model18)"
      ],
      "execution_count": null,
      "outputs": [
        {
          "output_type": "display_data",
          "data": {
            "image/png": "[encoded data removed]",
            "text/plain": [
              "<Figure size 1080x288 with 2 Axes>"
            ]
          },
          "metadata": {
            "tags": [],
            "needs_background": "light"
          }
        }
      ]
    },
    {
      "cell_type": "markdown",
      "metadata": {
        "collapsed": true,
        "id": "5xOPtPqpSZee"
      },
      "source": [
        "##### We are not training the mobilenet weights and we see validation accuracy is very poor. Let's train them as well and observe if there is performance improvement"
      ]
    },
    {
      "cell_type": "markdown",
      "metadata": {
        "id": "VoI6yAiJSZee"
      },
      "source": [
        "# Model 19 - Transfer Learning with GRU and training all weights"
      ]
    },
    {
      "cell_type": "code",
      "metadata": {
        "id": "nTQPoCkfSZee",
        "colab": {
          "base_uri": "https://localhost:8080/"
        },
        "outputId": "dda0dfcb-fb76-4733-a4ba-0a1030db9c1e"
      },
      "source": [
        "from keras.applications import mobilenet\n",
        "\n",
        "mobilenet_transfer = mobilenet.MobileNet(weights='imagenet', include_top=False)\n",
        "\n",
        "class RNNCNN_TL2(ModelBuilderMoreAugmentation):\n",
        "    \n",
        "    def define_model(self,gru_cells=64,dense_neurons=64,dropout=0.25):\n",
        "        \n",
        "        model = Sequential()\n",
        "        model.add(TimeDistributed(mobilenet_transfer,input_shape=(self.frames_to_sample,self.image_height,self.image_width,self.channels)))\n",
        " \n",
        "        \n",
        "        model.add(TimeDistributed(BatchNormalization()))\n",
        "        model.add(TimeDistributed(MaxPooling2D((2, 2))))\n",
        "        model.add(TimeDistributed(Flatten()))\n",
        "\n",
        "        model.add(GRU(gru_cells))\n",
        "        model.add(Dropout(dropout))\n",
        "        \n",
        "        model.add(Dense(dense_neurons,activation='relu'))\n",
        "        model.add(Dropout(dropout))\n",
        "        \n",
        "        model.add(Dense(self.num_classes, activation='softmax'))\n",
        "        \n",
        "        \n",
        "        optimiser = optimizers.Adam()\n",
        "        model.compile(optimizer=optimiser, loss='categorical_crossentropy', metrics=['categorical_accuracy'])\n",
        "        return model"
      ],
      "execution_count": null,
      "outputs": [
        {
          "output_type": "stream",
          "text": [
            "WARNING:tensorflow:`input_shape` is undefined or non-square, or `rows` is not in [128, 160, 192, 224]. Weights for input shape (224, 224) will be loaded as the default.\n"
          ],
          "name": "stdout"
        }
      ]
    },
    {
      "cell_type": "code",
      "metadata": {
        "id": "njrPV0TSSZef",
        "colab": {
          "base_uri": "https://localhost:8080/"
        },
        "outputId": "17438ada-88d1-46c3-881a-639b3216431b"
      },
      "source": [
        "rnn_cnn_tl2=RNNCNN_TL2()\n",
        "rnn_cnn_tl2.initialize_path(project_folder)\n",
        "rnn_cnn_tl2.initialize_image_properties(image_height=120,image_width=120)\n",
        "rnn_cnn_tl2.initialize_hyperparams(frames_to_sample=16,batch_size=5,num_epochs=20)\n",
        "rnn_cnn_tl2_model=rnn_cnn_tl2.define_model(gru_cells=128,dense_neurons=128,dropout=0.25)\n",
        "rnn_cnn_tl2_model.summary()"
      ],
      "execution_count": null,
      "outputs": [
        {
          "output_type": "stream",
          "text": [
            "Model: \"sequential_5\"\n",
            "_________________________________________________________________\n",
            "Layer (type)                 Output Shape              Param #   \n",
            "=================================================================\n",
            "time_distributed_17 (TimeDis (None, 16, 3, 3, 1024)    3228864   \n",
            "_________________________________________________________________\n",
            "time_distributed_18 (TimeDis (None, 16, 3, 3, 1024)    4096      \n",
            "_________________________________________________________________\n",
            "time_distributed_19 (TimeDis (None, 16, 1, 1, 1024)    0         \n",
            "_________________________________________________________________\n",
            "time_distributed_20 (TimeDis (None, 16, 1024)          0         \n",
            "_________________________________________________________________\n",
            "gru_1 (GRU)                  (None, 128)               443136    \n",
            "_________________________________________________________________\n",
            "dropout_10 (Dropout)         (None, 128)               0         \n",
            "_________________________________________________________________\n",
            "dense_13 (Dense)             (None, 128)               16512     \n",
            "_________________________________________________________________\n",
            "dropout_11 (Dropout)         (None, 128)               0         \n",
            "_________________________________________________________________\n",
            "dense_14 (Dense)             (None, 5)                 645       \n",
            "=================================================================\n",
            "Total params: 3,693,253\n",
            "Trainable params: 3,669,317\n",
            "Non-trainable params: 23,936\n",
            "_________________________________________________________________\n"
          ],
          "name": "stdout"
        }
      ]
    },
    {
      "cell_type": "code",
      "metadata": {
        "id": "i7vRDKlHSZef",
        "colab": {
          "base_uri": "https://localhost:8080/"
        },
        "outputId": "7f7976d4-2ed6-442b-a287-845ff0c40e0f"
      },
      "source": [
        "print(\"Total Params:\", rnn_cnn_tl2_model.count_params())\n",
        "history_model19=rnn_cnn_tl2.train_model(rnn_cnn_tl2_model,augment_data=True)"
      ],
      "execution_count": null,
      "outputs": [
        {
          "output_type": "stream",
          "text": [
            "Total Params: 3693253\n",
            "WARNING:tensorflow:`period` argument is deprecated. Please use `save_freq` to specify the frequency in number of batches seen.\n",
            "Epoch 1/20\n",
            "133/133 [==============================] - 91s 656ms/step - loss: 1.4576 - categorical_accuracy: 0.4020 - val_loss: 0.8867 - val_categorical_accuracy: 0.6300\n",
            "\n",
            "Epoch 00001: saving model to model_init_2021-03-0815_29_31.771567/model-00001-1.19523-0.51357-0.88672-0.63000.h5\n",
            "Epoch 2/20\n",
            "133/133 [==============================] - 87s 655ms/step - loss: 0.6278 - categorical_accuracy: 0.7547 - val_loss: 0.3681 - val_categorical_accuracy: 0.8100\n",
            "\n",
            "Epoch 00002: saving model to model_init_2021-03-0815_29_31.771567/model-00002-0.63645-0.75792-0.36814-0.81000.h5\n",
            "Epoch 3/20\n",
            "133/133 [==============================] - 87s 654ms/step - loss: 0.5279 - categorical_accuracy: 0.7953 - val_loss: 0.5399 - val_categorical_accuracy: 0.8000\n",
            "\n",
            "Epoch 00003: saving model to model_init_2021-03-0815_29_31.771567/model-00003-0.52555-0.80090-0.53985-0.80000.h5\n",
            "Epoch 4/20\n",
            "133/133 [==============================] - 86s 651ms/step - loss: 0.3350 - categorical_accuracy: 0.8867 - val_loss: 0.6131 - val_categorical_accuracy: 0.7900\n",
            "\n",
            "Epoch 00004: saving model to model_init_2021-03-0815_29_31.771567/model-00004-0.37256-0.87330-0.61315-0.79000.h5\n",
            "Epoch 5/20\n",
            "133/133 [==============================] - 86s 653ms/step - loss: 0.3252 - categorical_accuracy: 0.8737 - val_loss: 0.2179 - val_categorical_accuracy: 0.9000\n",
            "\n",
            "Epoch 00005: saving model to model_init_2021-03-0815_29_31.771567/model-00005-0.31546-0.88235-0.21790-0.90000.h5\n",
            "Epoch 6/20\n",
            "133/133 [==============================] - 86s 651ms/step - loss: 0.2706 - categorical_accuracy: 0.8989 - val_loss: 0.3590 - val_categorical_accuracy: 0.8300\n",
            "\n",
            "Epoch 00006: saving model to model_init_2021-03-0815_29_31.771567/model-00006-0.26561-0.90422-0.35902-0.83000.h5\n",
            "Epoch 7/20\n",
            "133/133 [==============================] - 86s 649ms/step - loss: 0.2734 - categorical_accuracy: 0.9070 - val_loss: 0.4393 - val_categorical_accuracy: 0.8100\n",
            "\n",
            "Epoch 00007: saving model to model_init_2021-03-0815_29_31.771567/model-00007-0.25156-0.91026-0.43931-0.81000.h5\n",
            "Epoch 8/20\n",
            "133/133 [==============================] - 86s 652ms/step - loss: 0.2176 - categorical_accuracy: 0.9222 - val_loss: 0.3934 - val_categorical_accuracy: 0.8600\n",
            "\n",
            "Epoch 00008: saving model to model_init_2021-03-0815_29_31.771567/model-00008-0.24002-0.92081-0.39341-0.86000.h5\n",
            "Epoch 9/20\n",
            "133/133 [==============================] - 86s 651ms/step - loss: 0.1762 - categorical_accuracy: 0.9324 - val_loss: 0.4324 - val_categorical_accuracy: 0.8400\n",
            "\n",
            "Epoch 00009: saving model to model_init_2021-03-0815_29_31.771567/model-00009-0.17432-0.94118-0.43241-0.84000.h5\n",
            "\n",
            "Epoch 00009: ReduceLROnPlateau reducing learning rate to 0.00020000000949949026.\n",
            "Epoch 10/20\n",
            "133/133 [==============================] - 86s 651ms/step - loss: 0.1685 - categorical_accuracy: 0.9412 - val_loss: 0.1670 - val_categorical_accuracy: 0.9300\n",
            "\n",
            "Epoch 00010: saving model to model_init_2021-03-0815_29_31.771567/model-00010-0.12683-0.95852-0.16701-0.93000.h5\n",
            "Epoch 11/20\n",
            "133/133 [==============================] - 87s 657ms/step - loss: 0.0660 - categorical_accuracy: 0.9815 - val_loss: 0.2428 - val_categorical_accuracy: 0.9000\n",
            "\n",
            "Epoch 00011: saving model to model_init_2021-03-0815_29_31.771567/model-00011-0.05852-0.98341-0.24277-0.90000.h5\n",
            "Epoch 12/20\n",
            "133/133 [==============================] - 87s 655ms/step - loss: 0.0609 - categorical_accuracy: 0.9856 - val_loss: 0.1579 - val_categorical_accuracy: 0.9400\n",
            "\n",
            "Epoch 00012: saving model to model_init_2021-03-0815_29_31.771567/model-00012-0.04946-0.98643-0.15789-0.94000.h5\n",
            "Epoch 13/20\n",
            "133/133 [==============================] - 87s 654ms/step - loss: 0.0449 - categorical_accuracy: 0.9857 - val_loss: 0.1515 - val_categorical_accuracy: 0.9300\n",
            "\n",
            "Epoch 00013: saving model to model_init_2021-03-0815_29_31.771567/model-00013-0.04212-0.98718-0.15149-0.93000.h5\n",
            "Epoch 14/20\n",
            "133/133 [==============================] - 87s 657ms/step - loss: 0.0368 - categorical_accuracy: 0.9908 - val_loss: 0.2169 - val_categorical_accuracy: 0.9300\n",
            "\n",
            "Epoch 00014: saving model to model_init_2021-03-0815_29_31.771567/model-00014-0.03421-0.99170-0.21691-0.93000.h5\n",
            "Epoch 15/20\n",
            "133/133 [==============================] - 86s 654ms/step - loss: 0.0353 - categorical_accuracy: 0.9874 - val_loss: 0.1398 - val_categorical_accuracy: 0.9500\n",
            "\n",
            "Epoch 00015: saving model to model_init_2021-03-0815_29_31.771567/model-00015-0.03846-0.98944-0.13978-0.95000.h5\n",
            "Epoch 16/20\n",
            "133/133 [==============================] - 87s 655ms/step - loss: 0.0257 - categorical_accuracy: 0.9950 - val_loss: 0.1509 - val_categorical_accuracy: 0.9400\n",
            "\n",
            "Epoch 00016: saving model to model_init_2021-03-0815_29_31.771567/model-00016-0.01854-0.99698-0.15085-0.94000.h5\n",
            "Epoch 17/20\n",
            "133/133 [==============================] - 87s 655ms/step - loss: 0.0196 - categorical_accuracy: 0.9928 - val_loss: 0.1547 - val_categorical_accuracy: 0.9500\n",
            "\n",
            "Epoch 00017: saving model to model_init_2021-03-0815_29_31.771567/model-00017-0.02342-0.99170-0.15474-0.95000.h5\n",
            "Epoch 18/20\n",
            "133/133 [==============================] - 87s 654ms/step - loss: 0.0145 - categorical_accuracy: 0.9951 - val_loss: 0.0996 - val_categorical_accuracy: 0.9500\n",
            "\n",
            "Epoch 00018: saving model to model_init_2021-03-0815_29_31.771567/model-00018-0.01661-0.99397-0.09965-0.95000.h5\n",
            "Epoch 19/20\n",
            "133/133 [==============================] - 86s 652ms/step - loss: 0.0250 - categorical_accuracy: 0.9905 - val_loss: 0.1220 - val_categorical_accuracy: 0.9500\n",
            "\n",
            "Epoch 00019: saving model to model_init_2021-03-0815_29_31.771567/model-00019-0.02480-0.99020-0.12202-0.95000.h5\n",
            "Epoch 20/20\n",
            "133/133 [==============================] - 86s 654ms/step - loss: 0.0114 - categorical_accuracy: 0.9984 - val_loss: 0.1682 - val_categorical_accuracy: 0.9300\n",
            "\n",
            "Epoch 00020: saving model to model_init_2021-03-0815_29_31.771567/model-00020-0.01474-0.99472-0.16818-0.93000.h5\n"
          ],
          "name": "stdout"
        }
      ]
    },
    {
      "cell_type": "code",
      "metadata": {
        "id": "84Cpiic4SZef",
        "colab": {
          "base_uri": "https://localhost:8080/",
          "height": 265
        },
        "outputId": "eaa8133c-479f-44e2-8a03-eab17cd77b1f"
      },
      "source": [
        "plot(history_model19)"
      ],
      "execution_count": null,
      "outputs": [
        {
          "output_type": "display_data",
          "data": {
            "image/png": "[encoded data removed]",
            "text/plain": [
              "<Figure size 1080x288 with 2 Axes>"
            ]
          },
          "metadata": {
            "tags": [],
            "needs_background": "light"
          }
        }
      ]
    },
    {
      "cell_type": "markdown",
      "metadata": {
        "id": "5EWFwpESSZeg"
      },
      "source": [
        "# Loading model and Testing"
      ]
    },
    {
      "cell_type": "code",
      "metadata": {
        "id": "7klWH5EYSZeg"
      },
      "source": [
        "import time\n",
        "from keras.models import load_model\n",
        "model = load_model('model-00020-0.27983-0.93213-0.89989-0.67000.h5')"
      ],
      "execution_count": null,
      "outputs": []
    },
    {
      "cell_type": "code",
      "metadata": {
        "id": "EFgzpchfSZeg"
      },
      "source": [
        "test_generator=RNNCNN2()\n",
        "test_generator.initialize_path(project_folder)\n",
        "test_generator.initialize_image_properties(image_height=120,image_width=120)\n",
        "test_generator.initialize_hyperparams(frames_to_sample=18,batch_size=5,num_epochs=20)\n",
        "\n",
        "\n",
        "g=test_generator.generator(test_generator.val_path,test_generator.val_doc,augment=False)\n",
        "batch_data, batch_labels=next(g)"
      ],
      "execution_count": null,
      "outputs": []
    },
    {
      "cell_type": "code",
      "metadata": {
        "id": "hH_SrrzgSZeg",
        "colab": {
          "base_uri": "https://localhost:8080/"
        },
        "outputId": "e632db01-156b-4c63-af0f-f89cffb6aa3c"
      },
      "source": [
        "batch_labels"
      ],
      "execution_count": null,
      "outputs": [
        {
          "output_type": "execute_result",
          "data": {
            "text/plain": [
              "array([[0., 1., 0., 0., 0.],\n",
              "       [0., 0., 1., 0., 0.],\n",
              "       [0., 0., 0., 1., 0.],\n",
              "       [0., 0., 1., 0., 0.],\n",
              "       [0., 0., 1., 0., 0.]])"
            ]
          },
          "metadata": {
            "tags": []
          },
          "execution_count": 132
        }
      ]
    },
    {
      "cell_type": "code",
      "metadata": {
        "id": "3PVN969sSZeg",
        "colab": {
          "base_uri": "https://localhost:8080/"
        },
        "outputId": "31e04ad6-f2b5-4611-f09b-37ed83f171de"
      },
      "source": [
        "print(np.argmax(model.predict(batch_data[:,:,:,:,:]),axis=1))"
      ],
      "execution_count": null,
      "outputs": [
        {
          "output_type": "stream",
          "text": [
            "[1 2 3 2 2]\n"
          ],
          "name": "stdout"
        }
      ]
    },
    {
      "cell_type": "code",
      "metadata": {
        "id": "x2cO2Rv2P6vy"
      },
      "source": [
        "# test_generator2=RNNCNN2()\n",
        "# test_generator2.initialize_path('test')\n",
        "# test_generator2.initialize_image_properties(image_height=120,image_width=120)\n",
        "# test_generator2.initialize_hyperparams(frames_to_sample=18,batch_size=5,num_epochs=20)\n",
        "\n",
        "\n",
        "# g=test_generator2.generator(test_generator2.val_path,test_generator2.val_doc,augment=False)\n",
        "# batch_data, batch_labels=next(g)"
      ],
      "execution_count": null,
      "outputs": []
    },
    {
      "cell_type": "code",
      "metadata": {
        "colab": {
          "base_uri": "https://localhost:8080/"
        },
        "id": "fdds8phdUutf",
        "outputId": "fb9ea907-80c6-4445-f850-91a3f399451f"
      },
      "source": [
        "# batch_labels"
      ],
      "execution_count": null,
      "outputs": [
        {
          "output_type": "execute_result",
          "data": {
            "text/plain": [
              "array([[0., 0., 0., 0., 1.]])"
            ]
          },
          "metadata": {
            "tags": []
          },
          "execution_count": 135
        }
      ]
    },
    {
      "cell_type": "code",
      "metadata": {
        "colab": {
          "base_uri": "https://localhost:8080/"
        },
        "id": "_qRV82d9UvWf",
        "outputId": "ca399eb5-33b3-4d47-da49-e58201d7a709"
      },
      "source": [
        "# print(np.argmax(model.predict(batch_data[:,:,:,:,:]),axis=1))"
      ],
      "execution_count": null,
      "outputs": [
        {
          "output_type": "stream",
          "text": [
            "[4]\n"
          ],
          "name": "stdout"
        }
      ]
    },
    {
      "cell_type": "code",
      "metadata": {
        "id": "Nv1HXnl8VPMw"
      },
      "source": [
        "# !rm test/val/test_Pro_Thumbs_Up_new -r"
      ],
      "execution_count": null,
      "outputs": []
    },
    {
      "cell_type": "code",
      "metadata": {
        "id": "XVY4219Oc6kj"
      },
      "source": [
        ""
      ],
      "execution_count": null,
      "outputs": []
    }
  ]
}